{
 "cells": [
  {
   "cell_type": "markdown",
   "id": "b8ec7e23",
   "metadata": {},
   "source": [
    "# Getting Google Trends Data Using Pytrends\n",
    "\n",
    "Pytrends is a Python library that allows you to easily access Google Trends data. Google Trends provides insights into what people are searching for on Google. Pytrends simplifies the process of fetching and analyzing this data programmatically. In this tutorial, we will walk through the installation process and demonstrate how to use Pytrends to retrieve and visualize Google Trends data."
   ]
  },
  {
   "cell_type": "markdown",
   "id": "54806eba",
   "metadata": {},
   "source": [
    "## 1. Installation\n",
    "\n",
    "First, make sure you have Python installed on your system. You can download and install Python from [python.org](https://www.python.org/downloads/).\n",
    "\n",
    "You can install Pytrends using pip, the Python package manager:"
   ]
  },
  {
   "cell_type": "code",
   "execution_count": 1,
   "id": "0d63179e",
   "metadata": {},
   "outputs": [],
   "source": [
    "# !pip install pytrends\n",
    "# ! pip install pytrends --upgrade\n",
    "# ! pip install git+https://github.com/GeneralMills/pytrends"
   ]
  },
  {
   "cell_type": "markdown",
   "id": "1d1d965f",
   "metadata": {},
   "source": [
    "Once Pytrends is installed, you can import it into your Python script or interactive session:"
   ]
  },
  {
   "cell_type": "code",
   "execution_count": 8,
   "id": "a17713f2",
   "metadata": {},
   "outputs": [],
   "source": [
    "from pytrends.request import TrendReq\n",
    "import requests"
   ]
  },
  {
   "cell_type": "code",
   "execution_count": 9,
   "id": "7f27aa55",
   "metadata": {},
   "outputs": [],
   "source": [
    "session = requests.Session()\n",
    "session.get('https://trends.google.com')\n",
    "cookies_map = session.cookies.get_dict()\n",
    "nid_cookie = cookies_map['NID']"
   ]
  },
  {
   "cell_type": "code",
   "execution_count": 10,
   "id": "82ea6fd4",
   "metadata": {},
   "outputs": [],
   "source": [
    "# version(pytrends)"
   ]
  },
  {
   "cell_type": "markdown",
   "id": "db37f504",
   "metadata": {},
   "source": [
    "## 2. Retrieving Google Trends Data\n",
    "\n",
    "### Initializing Pytrends\n",
    "\n",
    "To start retrieving Google Trends data, create a `TrendReq` object:"
   ]
  },
  {
   "cell_type": "code",
   "execution_count": 11,
   "id": "03409c7d",
   "metadata": {},
   "outputs": [],
   "source": [
    "# pytrends = TrendReq(retries=5, backoff_factor=0.1)\n",
    "# pytrends = TrendReq(requests_args={'headers': {'Cookie': f'NID={nid_cookie}'}})\n",
    "pytrends = TrendReq()"
   ]
  },
  {
   "cell_type": "markdown",
   "id": "f688689b",
   "metadata": {},
   "source": [
    "### Searching for Keywords\n",
    "\n",
    "You can search for the popularity of specific keywords over time:"
   ]
  },
  {
   "cell_type": "code",
   "execution_count": 12,
   "id": "5bd13fab",
   "metadata": {},
   "outputs": [],
   "source": [
    "keywords = [\"Python\", \"Data Science\", \"Machine Learning\"]\n",
    "pytrends.build_payload(keywords, timeframe='today 5-y')"
   ]
  },
  {
   "cell_type": "markdown",
   "id": "1ddbee8e",
   "metadata": {},
   "source": [
    "### Retrieving Interest Over Time\n",
    "\n",
    "You can retrieve the interest over time for the specified keywords:"
   ]
  },
  {
   "cell_type": "code",
   "execution_count": 13,
   "id": "deafaf3f",
   "metadata": {
    "scrolled": false
   },
   "outputs": [
    {
     "ename": "TooManyRequestsError",
     "evalue": "The request failed: Google returned a response with code 429",
     "output_type": "error",
     "traceback": [
      "\u001b[1;31m---------------------------------------------------------------------------\u001b[0m",
      "\u001b[1;31mTooManyRequestsError\u001b[0m                      Traceback (most recent call last)",
      "Cell \u001b[1;32mIn[13], line 1\u001b[0m\n\u001b[1;32m----> 1\u001b[0m interest_over_time_df \u001b[38;5;241m=\u001b[39m pytrends\u001b[38;5;241m.\u001b[39minterest_over_time()\n\u001b[0;32m      2\u001b[0m \u001b[38;5;28mprint\u001b[39m(interest_over_time_df\u001b[38;5;241m.\u001b[39mhead())\n",
      "File \u001b[1;32m~\\anaconda3\\Lib\\site-packages\\pytrends\\request.py:232\u001b[0m, in \u001b[0;36mTrendReq.interest_over_time\u001b[1;34m(self)\u001b[0m\n\u001b[0;32m    224\u001b[0m over_time_payload \u001b[38;5;241m=\u001b[39m {\n\u001b[0;32m    225\u001b[0m     \u001b[38;5;66;03m# convert to string as requests will mangle\u001b[39;00m\n\u001b[0;32m    226\u001b[0m     \u001b[38;5;124m'\u001b[39m\u001b[38;5;124mreq\u001b[39m\u001b[38;5;124m'\u001b[39m: json\u001b[38;5;241m.\u001b[39mdumps(\u001b[38;5;28mself\u001b[39m\u001b[38;5;241m.\u001b[39minterest_over_time_widget[\u001b[38;5;124m'\u001b[39m\u001b[38;5;124mrequest\u001b[39m\u001b[38;5;124m'\u001b[39m]),\n\u001b[0;32m    227\u001b[0m     \u001b[38;5;124m'\u001b[39m\u001b[38;5;124mtoken\u001b[39m\u001b[38;5;124m'\u001b[39m: \u001b[38;5;28mself\u001b[39m\u001b[38;5;241m.\u001b[39minterest_over_time_widget[\u001b[38;5;124m'\u001b[39m\u001b[38;5;124mtoken\u001b[39m\u001b[38;5;124m'\u001b[39m],\n\u001b[0;32m    228\u001b[0m     \u001b[38;5;124m'\u001b[39m\u001b[38;5;124mtz\u001b[39m\u001b[38;5;124m'\u001b[39m: \u001b[38;5;28mself\u001b[39m\u001b[38;5;241m.\u001b[39mtz\n\u001b[0;32m    229\u001b[0m }\n\u001b[0;32m    231\u001b[0m \u001b[38;5;66;03m# make the request and parse the returned json\u001b[39;00m\n\u001b[1;32m--> 232\u001b[0m req_json \u001b[38;5;241m=\u001b[39m \u001b[38;5;28mself\u001b[39m\u001b[38;5;241m.\u001b[39m_get_data(\n\u001b[0;32m    233\u001b[0m     url\u001b[38;5;241m=\u001b[39mTrendReq\u001b[38;5;241m.\u001b[39mINTEREST_OVER_TIME_URL,\n\u001b[0;32m    234\u001b[0m     method\u001b[38;5;241m=\u001b[39mTrendReq\u001b[38;5;241m.\u001b[39mGET_METHOD,\n\u001b[0;32m    235\u001b[0m     trim_chars\u001b[38;5;241m=\u001b[39m\u001b[38;5;241m5\u001b[39m,\n\u001b[0;32m    236\u001b[0m     params\u001b[38;5;241m=\u001b[39mover_time_payload,\n\u001b[0;32m    237\u001b[0m )\n\u001b[0;32m    239\u001b[0m df \u001b[38;5;241m=\u001b[39m pd\u001b[38;5;241m.\u001b[39mDataFrame(req_json[\u001b[38;5;124m'\u001b[39m\u001b[38;5;124mdefault\u001b[39m\u001b[38;5;124m'\u001b[39m][\u001b[38;5;124m'\u001b[39m\u001b[38;5;124mtimelineData\u001b[39m\u001b[38;5;124m'\u001b[39m])\n\u001b[0;32m    240\u001b[0m \u001b[38;5;28;01mif\u001b[39;00m (df\u001b[38;5;241m.\u001b[39mempty):\n",
      "File \u001b[1;32m~\\anaconda3\\Lib\\site-packages\\pytrends\\request.py:159\u001b[0m, in \u001b[0;36mTrendReq._get_data\u001b[1;34m(self, url, method, trim_chars, **kwargs)\u001b[0m\n\u001b[0;32m    157\u001b[0m \u001b[38;5;28;01melse\u001b[39;00m:\n\u001b[0;32m    158\u001b[0m     \u001b[38;5;28;01mif\u001b[39;00m response\u001b[38;5;241m.\u001b[39mstatus_code \u001b[38;5;241m==\u001b[39m status_codes\u001b[38;5;241m.\u001b[39mcodes\u001b[38;5;241m.\u001b[39mtoo_many_requests:\n\u001b[1;32m--> 159\u001b[0m         \u001b[38;5;28;01mraise\u001b[39;00m exceptions\u001b[38;5;241m.\u001b[39mTooManyRequestsError\u001b[38;5;241m.\u001b[39mfrom_response(response)\n\u001b[0;32m    160\u001b[0m     \u001b[38;5;28;01mraise\u001b[39;00m exceptions\u001b[38;5;241m.\u001b[39mResponseError\u001b[38;5;241m.\u001b[39mfrom_response(response)\n",
      "\u001b[1;31mTooManyRequestsError\u001b[0m: The request failed: Google returned a response with code 429"
     ]
    }
   ],
   "source": [
    "interest_over_time_df = pytrends.interest_over_time()\n",
    "print(interest_over_time_df.head())"
   ]
  },
  {
   "cell_type": "code",
   "execution_count": null,
   "id": "a97482e7",
   "metadata": {},
   "outputs": [],
   "source": [
    "interest_over_time_df"
   ]
  },
  {
   "cell_type": "markdown",
   "id": "b76e0f0a",
   "metadata": {},
   "source": [
    "### Retrieving Related Queries\n",
    "\n",
    "You can also retrieve related queries for a specific keyword:"
   ]
  },
  {
   "cell_type": "code",
   "execution_count": null,
   "id": "7730b00e",
   "metadata": {},
   "outputs": [],
   "source": [
    "related_queries = pytrends.related_queries()\n",
    "print(related_queries)"
   ]
  },
  {
   "cell_type": "markdown",
   "id": "232b760c",
   "metadata": {},
   "source": [
    "## 3. Visualizing Trends Data\n",
    "\n",
    "### Using Matplotlib for Visualization\n",
    "\n",
    "You can visualize Google Trends data using popular plotting libraries like Matplotlib:"
   ]
  },
  {
   "cell_type": "code",
   "execution_count": null,
   "id": "daf15d5e",
   "metadata": {
    "scrolled": false
   },
   "outputs": [],
   "source": [
    "import matplotlib.pyplot as plt\n",
    "\n",
    "plt.figure(figsize=(10, 5))\n",
    "interest_over_time_df.plot()\n",
    "plt.title('Interest Over Time')\n",
    "plt.xlabel('Date')\n",
    "plt.ylabel('Interest')\n",
    "plt.grid(True)\n",
    "plt.show()"
   ]
  },
  {
   "cell_type": "markdown",
   "id": "f1924869",
   "metadata": {},
   "source": [
    "## 4. Advanced Usage\n",
    "\n",
    "### Geographic Trends\n",
    "\n",
    "You can retrieve geographic trends for specific keywords:"
   ]
  },
  {
   "cell_type": "code",
   "execution_count": null,
   "id": "8b84161e",
   "metadata": {},
   "outputs": [],
   "source": [
    "pytrends.build_payload(keywords, geo='US')\n",
    "geo_interest = pytrends.interest_by_region()\n",
    "print(geo_interest)"
   ]
  },
  {
   "cell_type": "code",
   "execution_count": null,
   "id": "7f81cc48",
   "metadata": {},
   "outputs": [],
   "source": [
    "# let's try for Germany\n",
    "pytrends.build_payload(keywords, geo='DE')\n",
    "geo_interest = pytrends.interest_by_region()\n",
    "print(geo_interest)"
   ]
  },
  {
   "cell_type": "markdown",
   "id": "2f634e3c",
   "metadata": {},
   "source": [
    "### Category Trends\n",
    "\n",
    "You can retrieve trends for specific categories as well. Category refer to broad topical classifications like 'Music & Audio'. Here are all the categories: https://github.com/pat310/google-trends-api/wiki/Google-Trends-Categories"
   ]
  },
  {
   "cell_type": "code",
   "execution_count": null,
   "id": "37af911c",
   "metadata": {},
   "outputs": [],
   "source": [
    "pytrends.build_payload(keywords, cat=0) # 0 is for all\n",
    "category_interest = pytrends.interest_by_region()\n",
    "print(category_interest)"
   ]
  },
  {
   "cell_type": "code",
   "execution_count": null,
   "id": "dabfff43",
   "metadata": {},
   "outputs": [],
   "source": [
    "pytrends.build_payload(keywords, cat=231) # 231 is for 'Engineering & Technology'\n",
    "category_interest = pytrends.interest_by_region()\n",
    "print(category_interest)"
   ]
  },
  {
   "cell_type": "markdown",
   "id": "9cded775",
   "metadata": {},
   "source": [
    "### Real-time Trends\n",
    "\n",
    "You can retrieve real-time trends:"
   ]
  },
  {
   "cell_type": "code",
   "execution_count": null,
   "id": "400fec07",
   "metadata": {},
   "outputs": [],
   "source": [
    "pytrends.build_payload(keywords, timeframe='now 1-H')\n",
    "realtime_interest = pytrends.interest_over_time()\n",
    "print(realtime_interest)"
   ]
  },
  {
   "cell_type": "markdown",
   "id": "ce55e9b2",
   "metadata": {},
   "source": [
    "### Spatial Plot of the Trends"
   ]
  },
  {
   "cell_type": "code",
   "execution_count": null,
   "id": "71d41a31",
   "metadata": {},
   "outputs": [],
   "source": [
    "import plotly.express as px"
   ]
  },
  {
   "cell_type": "code",
   "execution_count": null,
   "id": "4d78bbc8",
   "metadata": {},
   "outputs": [],
   "source": [
    "keywords = ['barbie', 'oppenheimer']\n",
    "pytrends.build_payload(keywords, geo='US',\n",
    "                      timeframe='2023-07-01 2023-08-01',\n",
    "                      cat = 3 # 'Arts & Entertainment'\n",
    "                      ) \n",
    "geo_interest = pytrends.interest_by_region()\n",
    "print(geo_interest)"
   ]
  },
  {
   "cell_type": "code",
   "execution_count": null,
   "id": "b86d6734",
   "metadata": {},
   "outputs": [],
   "source": [
    "geo_interest['diff'] = geo_interest['barbie'] - geo_interest['oppenheimer']\n",
    "geo_interest = geo_interest.reset_index()\n",
    "geo_interest"
   ]
  },
  {
   "cell_type": "code",
   "execution_count": null,
   "id": "b50961b3",
   "metadata": {},
   "outputs": [],
   "source": [
    "# let's get the state abbreviations\n",
    "\n",
    "us_state_to_abbrev = {\n",
    "    \"Alabama\": \"AL\",\n",
    "    \"Alaska\": \"AK\",\n",
    "    \"Arizona\": \"AZ\",\n",
    "    \"Arkansas\": \"AR\",\n",
    "    \"California\": \"CA\",\n",
    "    \"Colorado\": \"CO\",\n",
    "    \"Connecticut\": \"CT\",\n",
    "    \"Delaware\": \"DE\",\n",
    "    \"Florida\": \"FL\",\n",
    "    \"Georgia\": \"GA\",\n",
    "    \"Hawaii\": \"HI\",\n",
    "    \"Idaho\": \"ID\",\n",
    "    \"Illinois\": \"IL\",\n",
    "    \"Indiana\": \"IN\",\n",
    "    \"Iowa\": \"IA\",\n",
    "    \"Kansas\": \"KS\",\n",
    "    \"Kentucky\": \"KY\",\n",
    "    \"Louisiana\": \"LA\",\n",
    "    \"Maine\": \"ME\",\n",
    "    \"Maryland\": \"MD\",\n",
    "    \"Massachusetts\": \"MA\",\n",
    "    \"Michigan\": \"MI\",\n",
    "    \"Minnesota\": \"MN\",\n",
    "    \"Mississippi\": \"MS\",\n",
    "    \"Missouri\": \"MO\",\n",
    "    \"Montana\": \"MT\",\n",
    "    \"Nebraska\": \"NE\",\n",
    "    \"Nevada\": \"NV\",\n",
    "    \"New Hampshire\": \"NH\",\n",
    "    \"New Jersey\": \"NJ\",\n",
    "    \"New Mexico\": \"NM\",\n",
    "    \"New York\": \"NY\",\n",
    "    \"North Carolina\": \"NC\",\n",
    "    \"North Dakota\": \"ND\",\n",
    "    \"Ohio\": \"OH\",\n",
    "    \"Oklahoma\": \"OK\",\n",
    "    \"Oregon\": \"OR\",\n",
    "    \"Pennsylvania\": \"PA\",\n",
    "    \"Rhode Island\": \"RI\",\n",
    "    \"South Carolina\": \"SC\",\n",
    "    \"South Dakota\": \"SD\",\n",
    "    \"Tennessee\": \"TN\",\n",
    "    \"Texas\": \"TX\",\n",
    "    \"Utah\": \"UT\",\n",
    "    \"Vermont\": \"VT\",\n",
    "    \"Virginia\": \"VA\",\n",
    "    \"Washington\": \"WA\",\n",
    "    \"West Virginia\": \"WV\",\n",
    "    \"Wisconsin\": \"WI\",\n",
    "    \"Wyoming\": \"WY\",\n",
    "    \"District of Columbia\": \"DC\",\n",
    "    \"American Samoa\": \"AS\",\n",
    "    \"Guam\": \"GU\",\n",
    "    \"Northern Mariana Islands\": \"MP\",\n",
    "    \"Puerto Rico\": \"PR\",\n",
    "    \"United States Minor Outlying Islands\": \"UM\",\n",
    "    \"U.S. Virgin Islands\": \"VI\",\n",
    "}\n",
    "    \n",
    "geo_interest['state_code'] = [us_state_to_abbrev[i] for i in geo_interest['geoName']]"
   ]
  },
  {
   "cell_type": "code",
   "execution_count": null,
   "id": "e659826f",
   "metadata": {},
   "outputs": [],
   "source": [
    "geo_interest"
   ]
  },
  {
   "cell_type": "code",
   "execution_count": null,
   "id": "ff5be06f",
   "metadata": {},
   "outputs": [],
   "source": [
    "fig = px.choropleth(geo_interest,\n",
    "                    locations='state_code',\n",
    "                    color='diff',\n",
    "                    color_continuous_scale='spectral_r',\n",
    "                    hover_name='state_code',\n",
    "                    locationmode='USA-states',\n",
    "                    scope='usa')\n",
    "fig.add_scattergeo(\n",
    "    locations=geo_interest['state_code'],\n",
    "    locationmode=\"USA-states\", \n",
    "    text=geo_interest['state_code'],\n",
    "    mode='text',\n",
    ")\n",
    "fig.update_layout(\n",
    "    title_x = 0.5,\n",
    "    title_y = 0.95,\n",
    "    title_text='Preference for Barbie over Oppenheimer by US States',\n",
    "    margin=dict(t=10, b=0, r=0, l=0),  # Set b (bottom) margin to 0\n",
    "    autosize=True,\n",
    "    # width=1300,\n",
    "    # height=700,\n",
    ")\n",
    "\n",
    "fig.show()\n",
    "fig.write_image('barbenheimer_interest.pdf')"
   ]
  },
  {
   "cell_type": "code",
   "execution_count": null,
   "id": "19aa8118",
   "metadata": {},
   "outputs": [],
   "source": []
  },
  {
   "cell_type": "code",
   "execution_count": null,
   "id": "e963b77c",
   "metadata": {},
   "outputs": [],
   "source": []
  },
  {
   "cell_type": "code",
   "execution_count": null,
   "id": "41cda5fd",
   "metadata": {},
   "outputs": [],
   "source": []
  }
 ],
 "metadata": {
  "kernelspec": {
   "display_name": "Python 3 (ipykernel)",
   "language": "python",
   "name": "python3"
  },
  "language_info": {
   "codemirror_mode": {
    "name": "ipython",
    "version": 3
   },
   "file_extension": ".py",
   "mimetype": "text/x-python",
   "name": "python",
   "nbconvert_exporter": "python",
   "pygments_lexer": "ipython3",
   "version": "3.11.5"
  }
 },
 "nbformat": 4,
 "nbformat_minor": 5
}
