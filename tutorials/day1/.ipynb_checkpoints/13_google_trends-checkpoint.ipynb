{
 "cells": [
  {
   "cell_type": "markdown",
   "id": "b8ec7e23",
   "metadata": {},
   "source": [
    "# Getting Google Trends Data Using Pytrends\n",
    "\n",
    "Pytrends is a Python library that allows you to easily access Google Trends data. Google Trends provides insights into what people are searching for on Google. Pytrends simplifies the process of fetching and analyzing this data programmatically. In this tutorial, we will walk through the installation process and demonstrate how to use Pytrends to retrieve and visualize Google Trends data."
   ]
  },
  {
   "cell_type": "markdown",
   "id": "54806eba",
   "metadata": {},
   "source": [
    "## 1. Installation\n",
    "\n",
    "First, make sure you have Python installed on your system. You can download and install Python from [python.org](https://www.python.org/downloads/).\n",
    "\n",
    "You can install Pytrends using pip, the Python package manager:"
   ]
  },
  {
   "cell_type": "code",
   "execution_count": 1,
   "id": "0d63179e",
   "metadata": {},
   "outputs": [],
   "source": [
    "# !pip install pytrends\n",
    "# ! pip install pytrends --upgrade"
   ]
  },
  {
   "cell_type": "markdown",
   "id": "1d1d965f",
   "metadata": {},
   "source": [
    "Once Pytrends is installed, you can import it into your Python script or interactive session:"
   ]
  },
  {
   "cell_type": "code",
   "execution_count": 2,
   "id": "a17713f2",
   "metadata": {},
   "outputs": [],
   "source": [
    "from pytrends.request import TrendReq"
   ]
  },
  {
   "cell_type": "markdown",
   "id": "db37f504",
   "metadata": {},
   "source": [
    "## 2. Retrieving Google Trends Data\n",
    "\n",
    "### Initializing Pytrends\n",
    "\n",
    "To start retrieving Google Trends data, create a `TrendReq` object:"
   ]
  },
  {
   "cell_type": "code",
   "execution_count": 3,
   "id": "03409c7d",
   "metadata": {},
   "outputs": [],
   "source": [
    "pytrends = TrendReq()"
   ]
  },
  {
   "cell_type": "markdown",
   "id": "f688689b",
   "metadata": {},
   "source": [
    "### Searching for Keywords\n",
    "\n",
    "You can search for the popularity of specific keywords over time:"
   ]
  },
  {
   "cell_type": "code",
   "execution_count": 4,
   "id": "5bd13fab",
   "metadata": {},
   "outputs": [],
   "source": [
    "keywords = [\"Python\", \"Data Science\", \"Machine Learning\"]\n",
    "pytrends.build_payload(keywords, timeframe='today 5-y')"
   ]
  },
  {
   "cell_type": "markdown",
   "id": "1ddbee8e",
   "metadata": {},
   "source": [
    "### Retrieving Interest Over Time\n",
    "\n",
    "You can retrieve the interest over time for the specified keywords:"
   ]
  },
  {
   "cell_type": "code",
   "execution_count": 6,
   "id": "deafaf3f",
   "metadata": {},
   "outputs": [
    {
     "name": "stdout",
     "output_type": "stream",
     "text": [
      "            Python  Data Science  Machine Learning  isPartial\n",
      "date                                                         \n",
      "2019-03-03      59             3                 4      False\n",
      "2019-03-10      59             3                 4      False\n",
      "2019-03-17      62             3                 4      False\n",
      "2019-03-24      62             3                 4      False\n",
      "2019-03-31      60             3                 4      False\n"
     ]
    }
   ],
   "source": [
    "interest_over_time_df = pytrends.interest_over_time()\n",
    "print(interest_over_time_df.head())"
   ]
  },
  {
   "cell_type": "markdown",
   "id": "b76e0f0a",
   "metadata": {},
   "source": [
    "### Retrieving Related Queries\n",
    "\n",
    "You can also retrieve related queries for a specific keyword:"
   ]
  },
  {
   "cell_type": "code",
   "execution_count": 7,
   "id": "7730b00e",
   "metadata": {},
   "outputs": [
    {
     "name": "stdout",
     "output_type": "stream",
     "text": [
      "{'Python': {'top':                  query  value\n",
      "0           for python    100\n",
      "1          python list     88\n",
      "2            python if     39\n",
      "3       install python     39\n",
      "4      python function     36\n",
      "5               pandas     32\n",
      "6        pandas python     32\n",
      "7        online python     31\n",
      "8       what is python     31\n",
      "9         python array     28\n",
      "10     download python     28\n",
      "11        python print     27\n",
      "12   python dictionary     24\n",
      "13        python class     22\n",
      "14          python set     20\n",
      "15         python json     19\n",
      "16          python api     18\n",
      "17               numpy     18\n",
      "18          python pip     17\n",
      "19                 pip     17\n",
      "20        monty python     17\n",
      "21         python time     17\n",
      "22     python compiler     15\n",
      "23  python programming     15\n",
      "24              github     15, 'rising':                          query  value\n",
      "0                        colab   4100\n",
      "1                 google colab   3700\n",
      "2                       replit   1000\n",
      "3                replit python   1000\n",
      "4       python online compiler    700\n",
      "5                       vscode    650\n",
      "6             python w3schools    550\n",
      "7                    w3schools    500\n",
      "8              python compiler    400\n",
      "9           visual studio code    300\n",
      "10        data types in python    250\n",
      "11            jupyter notebook    150\n",
      "12               online python    130\n",
      "13  python interview questions    130\n",
      "14                      kaggle    120\n",
      "15               python course    110\n",
      "16        python certification    100\n",
      "17            pycharm download     90\n",
      "18              jupyter python     90\n",
      "19              what is python     80\n",
      "20                       udemy     80\n",
      "21                      github     70\n",
      "22            pandas dataframe     70\n",
      "23               python coding     70\n",
      "24                      pandas     70}, 'Data Science': {'top':                       query  value\n",
      "0       data science course    100\n",
      "1      what is data science     99\n",
      "2              what is data     98\n",
      "3       data science python     76\n",
      "4                    python     76\n",
      "5         data science jobs     74\n",
      "6          computer science     65\n",
      "7                 analytics     60\n",
      "8            data analytics     60\n",
      "9      data science masters     55\n",
      "10      data science salary     48\n",
      "11           data scientist     47\n",
      "12         machine learning     46\n",
      "13     data science courses     46\n",
      "14      data science master     45\n",
      "15         data science job     41\n",
      "16         data engineering     38\n",
      "17  masters in data science     32\n",
      "18  python for data science     32\n",
      "19      data science degree     30\n",
      "20             data analyst     30\n",
      "21                       ai     29\n",
      "22               statistics     28\n",
      "23     data science meaning     26\n",
      "24          ms data science     25, 'rising':                                               query  value\n",
      "0                       iit madras bsc data science  31200\n",
      "1                           iit madras data science   3750\n",
      "2                                        iit madras   3700\n",
      "3                                      google colab   1050\n",
      "4         ibm data science professional certificate    850\n",
      "5                                    great learning    850\n",
      "6   artificial intelligence and data science course    800\n",
      "7                               eda in data science    600\n",
      "8                                  bsc data science    550\n",
      "9                              data science roadmap    550\n",
      "10                         data science course fees    500\n",
      "11                    data science academy power bi    500\n",
      "12         artificial intelligence and data science    500\n",
      "13                              data science adalah    450\n",
      "14                              bsc in data science    450\n",
      "15                                 data science 365    400\n",
      "16                             towards data science    350\n",
      "17                    is data science a good career    300\n",
      "18                google data science certification    250\n",
      "19                                               ai    250\n",
      "20                          artificial intelligence    250\n",
      "21                                           upgrad    250\n",
      "22                      data science course details    250\n",
      "23                                         power bi    200\n",
      "24                      what is data science course    200}, 'Machine Learning': {'top':                                            query  value\n",
      "0                        python machine learning    100\n",
      "1                                         python     97\n",
      "2                       what is machine learning     97\n",
      "3                            ai machine learning     75\n",
      "4                                             ai     73\n",
      "5                         machine learning model     60\n",
      "6                                  deep learning     56\n",
      "7                        google machine learning     45\n",
      "8                        artificial intelligence     42\n",
      "9                                     regression     40\n",
      "10                                  data science     39\n",
      "11                          machine learning pdf     39\n",
      "12                   machine learning algorithms     36\n",
      "13                       machine learning course     35\n",
      "14                                            ml     35\n",
      "15                                classification     32\n",
      "16                     machine learning engineer     32\n",
      "17               classification machine learning     31\n",
      "18                       machine learning models     29\n",
      "19                       ai and machine learning     28\n",
      "20                      machine learning meaning     26\n",
      "21                                        github     23\n",
      "22                         machine learning jobs     23\n",
      "23                regression in machine learning     23\n",
      "24  artificial intelligence and machine learning     22, 'rising':                                                 query  value\n",
      "0                                                 llm   7050\n",
      "1   traffic prediction for intelligent transportat...   3450\n",
      "2                                        google colab   1900\n",
      "3          fake news detection using machine learning   1350\n",
      "4                                       google collab   1100\n",
      "5     heart disease prediction using machine learning   1000\n",
      "6                   knn algorithm in machine learning    700\n",
      "7         random forest algorithm in machine learning    650\n",
      "8              what is clustering in machine learning    650\n",
      "9                confusion matrix in machine learning    600\n",
      "10                    what is cnn in machine learning    600\n",
      "11             data preprocessing in machine learning    550\n",
      "12                            cnn in machine learning    550\n",
      "13                         epochs in machine learning    500\n",
      "14                           machine learning roadmap    450\n",
      "15                         que es el machine learning    450\n",
      "16                       outliers in machine learning    450\n",
      "17         what is classification in machine learning    450\n",
      "18                 inductive bias in machine learning    450\n",
      "19                 aws machine learning certification    400\n",
      "20                                            sci hub    400\n",
      "21                            machine learning adalah    400\n",
      "22                                            pytorch    400\n",
      "23                  bayes theorem in machine learning    350\n",
      "24  what is artificial intelligence and machine le...    350}}\n"
     ]
    }
   ],
   "source": [
    "related_queries = pytrends.related_queries()\n",
    "print(related_queries)"
   ]
  },
  {
   "cell_type": "markdown",
   "id": "232b760c",
   "metadata": {},
   "source": [
    "## 3. Visualizing Trends Data\n",
    "\n",
    "### Using Matplotlib for Visualization\n",
    "\n",
    "You can visualize Google Trends data using popular plotting libraries like Matplotlib:"
   ]
  },
  {
   "cell_type": "code",
   "execution_count": 8,
   "id": "daf15d5e",
   "metadata": {
    "scrolled": false
   },
   "outputs": [
    {
     "data": {
      "text/plain": [
       "<Figure size 1000x500 with 0 Axes>"
      ]
     },
     "metadata": {},
     "output_type": "display_data"
    },
    {
     "data": {
      "image/png": "[encoded data removed]",
      "text/plain": [
       "<Figure size 640x480 with 1 Axes>"
      ]
     },
     "metadata": {},
     "output_type": "display_data"
    }
   ],
   "source": [
    "import matplotlib.pyplot as plt\n",
    "\n",
    "plt.figure(figsize=(10, 5))\n",
    "interest_over_time_df.plot()\n",
    "plt.title('Interest Over Time')\n",
    "plt.xlabel('Date')\n",
    "plt.ylabel('Interest')\n",
    "plt.grid(True)\n",
    "plt.show()"
   ]
  },
  {
   "cell_type": "markdown",
   "id": "f1924869",
   "metadata": {},
   "source": [
    "## 4. Advanced Usage\n",
    "\n",
    "### Geographic Trends\n",
    "\n",
    "You can retrieve geographic trends for specific keywords:"
   ]
  },
  {
   "cell_type": "code",
   "execution_count": 9,
   "id": "8b84161e",
   "metadata": {},
   "outputs": [
    {
     "name": "stdout",
     "output_type": "stream",
     "text": [
      "                      Python  Data Science  Machine Learning\n",
      "geoName                                                     \n",
      "Alabama                   91             4                 5\n",
      "Alaska                    92             4                 4\n",
      "Arizona                   91             4                 5\n",
      "Arkansas                  90             6                 4\n",
      "California                91             4                 5\n",
      "Colorado                  93             4                 3\n",
      "Connecticut               90             5                 5\n",
      "Delaware                  89             5                 6\n",
      "District of Columbia      84             9                 7\n",
      "Florida                   89             6                 5\n",
      "Georgia                   88             6                 6\n",
      "Hawaii                    89             6                 5\n",
      "Idaho                     94             3                 3\n",
      "Illinois                  89             6                 5\n",
      "Indiana                   90             5                 5\n",
      "Iowa                      93             3                 4\n",
      "Kansas                    92             4                 4\n",
      "Kentucky                  91             5                 4\n",
      "Louisiana                 90             5                 5\n",
      "Maine                     92             5                 3\n",
      "Maryland                  89             5                 6\n",
      "Massachusetts             90             4                 6\n",
      "Michigan                  90             5                 5\n",
      "Minnesota                 91             5                 4\n",
      "Mississippi               88             6                 6\n",
      "Missouri                  90             5                 5\n",
      "Montana                   93             4                 3\n",
      "Nebraska                  91             5                 4\n",
      "Nevada                    91             4                 5\n",
      "New Hampshire             93             3                 4\n",
      "New Jersey                88             6                 6\n",
      "New Mexico                93             3                 4\n",
      "New York                  86             7                 7\n",
      "North Carolina            89             6                 5\n",
      "North Dakota              90             5                 5\n",
      "Ohio                      91             4                 5\n",
      "Oklahoma                  91             5                 4\n",
      "Oregon                    93             3                 4\n",
      "Pennsylvania              89             5                 6\n",
      "Rhode Island              89             6                 5\n",
      "South Carolina            89             6                 5\n",
      "South Dakota              90             6                 4\n",
      "Tennessee                 89             5                 6\n",
      "Texas                     89             6                 5\n",
      "Utah                      94             3                 3\n",
      "Vermont                   92             5                 3\n",
      "Virginia                  91             4                 5\n",
      "Washington                92             3                 5\n",
      "West Virginia             91             4                 5\n",
      "Wisconsin                 91             5                 4\n",
      "Wyoming                   92             4                 4\n"
     ]
    }
   ],
   "source": [
    "pytrends.build_payload(keywords, geo='US')\n",
    "geo_interest = pytrends.interest_by_region()\n",
    "print(geo_interest)"
   ]
  },
  {
   "cell_type": "code",
   "execution_count": 10,
   "id": "7f81cc48",
   "metadata": {},
   "outputs": [
    {
     "name": "stdout",
     "output_type": "stream",
     "text": [
      "                        Python  Data Science  Machine Learning\n",
      "geoName                                                       \n",
      "Baden-Württemberg           94             2                 4\n",
      "Bavaria                     93             2                 5\n",
      "Berlin                      92             3                 5\n",
      "Brandenburg                 93             3                 4\n",
      "Bremen                      94             2                 4\n",
      "Hamburg                     93             3                 4\n",
      "Hesse                       93             3                 4\n",
      "Lower Saxony                94             2                 4\n",
      "Mecklenburg-Vorpommern      95             2                 3\n",
      "North Rhine-Westphalia      92             3                 5\n",
      "Rhineland-Palatinate        94             3                 3\n",
      "Saarland                    93             2                 5\n",
      "Saxony                      95             2                 3\n",
      "Saxony-Anhalt               92             3                 5\n",
      "Schleswig-Holstein          94             3                 3\n",
      "Thuringia                   95             2                 3\n"
     ]
    }
   ],
   "source": [
    "# let's try for Germany\n",
    "pytrends.build_payload(keywords, geo='DE')\n",
    "geo_interest = pytrends.interest_by_region()\n",
    "print(geo_interest)"
   ]
  },
  {
   "cell_type": "markdown",
   "id": "2f634e3c",
   "metadata": {},
   "source": [
    "### Category Trends\n",
    "\n",
    "You can retrieve trends for specific categories as well. Category refer to broad topical classifications like 'Music & Audio'. Here are all the categories: https://github.com/pat310/google-trends-api/wiki/Google-Trends-Categories"
   ]
  },
  {
   "cell_type": "code",
   "execution_count": 11,
   "id": "37af911c",
   "metadata": {},
   "outputs": [
    {
     "name": "stdout",
     "output_type": "stream",
     "text": [
      "                        Python  Data Science  Machine Learning\n",
      "geoName                                                       \n",
      "Baden-Württemberg           94             2                 4\n",
      "Bavaria                     93             2                 5\n",
      "Berlin                      92             3                 5\n",
      "Brandenburg                 93             3                 4\n",
      "Bremen                      94             2                 4\n",
      "Hamburg                     93             3                 4\n",
      "Hesse                       93             3                 4\n",
      "Lower Saxony                94             2                 4\n",
      "Mecklenburg-Vorpommern      95             2                 3\n",
      "North Rhine-Westphalia      92             3                 5\n",
      "Rhineland-Palatinate        94             3                 3\n",
      "Saarland                    93             2                 5\n",
      "Saxony                      95             2                 3\n",
      "Saxony-Anhalt               92             3                 5\n",
      "Schleswig-Holstein          94             3                 3\n",
      "Thuringia                   95             2                 3\n"
     ]
    }
   ],
   "source": [
    "pytrends.build_payload(keywords, cat=0) # 0 is for all\n",
    "category_interest = pytrends.interest_by_region()\n",
    "print(category_interest)"
   ]
  },
  {
   "cell_type": "code",
   "execution_count": 15,
   "id": "dabfff43",
   "metadata": {},
   "outputs": [
    {
     "name": "stdout",
     "output_type": "stream",
     "text": [
      "                        Python  Data Science  Machine Learning\n",
      "geoName                                                       \n",
      "Baden-Württemberg           87             5                 8\n",
      "Bavaria                     88             4                 8\n",
      "Berlin                      82             6                12\n",
      "Brandenburg                100             0                 0\n",
      "Bremen                     100             0                 0\n",
      "Hamburg                     91             9                 0\n",
      "Hesse                       84             8                 8\n",
      "Lower Saxony                89             3                 8\n",
      "Mecklenburg-Vorpommern     100             0                 0\n",
      "North Rhine-Westphalia      83             8                 9\n",
      "Rhineland-Palatinate        82             9                 9\n",
      "Saarland                   100             0                 0\n",
      "Saxony                      89             5                 6\n",
      "Saxony-Anhalt              100             0                 0\n",
      "Schleswig-Holstein         100             0                 0\n",
      "Thuringia                  100             0                 0\n"
     ]
    }
   ],
   "source": [
    "pytrends.build_payload(keywords, cat=231) # 231 is for 'Engineering & Technology'\n",
    "category_interest = pytrends.interest_by_region()\n",
    "print(category_interest)"
   ]
  },
  {
   "cell_type": "markdown",
   "id": "9cded775",
   "metadata": {},
   "source": [
    "### Real-time Trends\n",
    "\n",
    "You can retrieve real-time trends:"
   ]
  },
  {
   "cell_type": "code",
   "execution_count": 16,
   "id": "400fec07",
   "metadata": {},
   "outputs": [
    {
     "name": "stdout",
     "output_type": "stream",
     "text": [
      "                     Python  Data Science  Machine Learning  isPartial\n",
      "date                                                                  \n",
      "2024-02-25 15:04:00      62             0                 0      False\n",
      "2024-02-25 15:05:00      57             0                39      False\n",
      "2024-02-25 15:06:00      42             0                 0      False\n",
      "2024-02-25 15:07:00      73             0                 0      False\n",
      "2024-02-25 15:08:00      71             0                 0      False\n",
      "2024-02-25 15:09:00      67             0                 0      False\n",
      "2024-02-25 15:10:00      66             0                 0      False\n",
      "2024-02-25 15:11:00       0             0                 0      False\n",
      "2024-02-25 15:12:00      42             0                 0      False\n",
      "2024-02-25 15:13:00      37             0                 0      False\n",
      "2024-02-25 15:14:00      63             0                 0      False\n",
      "2024-02-25 15:15:00      66             0                 0      False\n",
      "2024-02-25 15:16:00      86             0                31      False\n",
      "2024-02-25 15:17:00      78             0                 0      False\n",
      "2024-02-25 15:18:00      59             0                 0      False\n",
      "2024-02-25 15:19:00      63             0                 0      False\n",
      "2024-02-25 15:20:00      84             0                 0      False\n",
      "2024-02-25 15:21:00      67             0                 0      False\n",
      "2024-02-25 15:22:00       0             0                 0      False\n",
      "2024-02-25 15:23:00      41             0                 0      False\n",
      "2024-02-25 15:24:00      53             0                 0      False\n",
      "2024-02-25 15:25:00      75             0                 0      False\n",
      "2024-02-25 15:26:00      47             0                 0      False\n",
      "2024-02-25 15:27:00      71             0                 0      False\n",
      "2024-02-25 15:28:00      31             0                 0      False\n",
      "2024-02-25 15:29:00      40             0                 0      False\n",
      "2024-02-25 15:30:00      51             0                 0      False\n",
      "2024-02-25 15:31:00       0             0                 0      False\n",
      "2024-02-25 15:32:00      81             0                 0      False\n",
      "2024-02-25 15:33:00      67             0                 0      False\n",
      "2024-02-25 15:34:00      85             0                 0      False\n",
      "2024-02-25 15:35:00      72             0                 0      False\n",
      "2024-02-25 15:36:00      50             0                 0      False\n",
      "2024-02-25 15:37:00      60             0                 0      False\n",
      "2024-02-25 15:38:00      86             0                 0      False\n",
      "2024-02-25 15:39:00      84             0                 0      False\n",
      "2024-02-25 15:40:00      65             0                 0      False\n",
      "2024-02-25 15:41:00      69             0                 0      False\n",
      "2024-02-25 15:42:00      49             0                 0      False\n",
      "2024-02-25 15:43:00      44             0                 0      False\n",
      "2024-02-25 15:44:00      69             0                 0      False\n",
      "2024-02-25 15:45:00     100             0                 0      False\n",
      "2024-02-25 15:46:00      98             0                 0      False\n",
      "2024-02-25 15:47:00      56             0                 0      False\n",
      "2024-02-25 15:48:00      79             0                 0      False\n",
      "2024-02-25 15:49:00      84             0                 0      False\n",
      "2024-02-25 15:50:00     100             0                 0      False\n",
      "2024-02-25 15:51:00      68             0                 0      False\n",
      "2024-02-25 15:52:00      75             0                 0      False\n",
      "2024-02-25 15:53:00      43             0                 0      False\n",
      "2024-02-25 15:54:00      84             0                 0      False\n",
      "2024-02-25 15:55:00      86             0                 0      False\n",
      "2024-02-25 15:56:00      65             0                 0      False\n",
      "2024-02-25 15:57:00      75             0                 0      False\n",
      "2024-02-25 15:58:00      71             0                 0      False\n",
      "2024-02-25 15:59:00      98             0                 0      False\n",
      "2024-02-25 16:00:00      46             0                 0       True\n"
     ]
    }
   ],
   "source": [
    "pytrends.build_payload(keywords, timeframe='now 1-H')\n",
    "realtime_interest = pytrends.interest_over_time()\n",
    "print(realtime_interest)"
   ]
  },
  {
   "cell_type": "markdown",
   "id": "ce55e9b2",
   "metadata": {},
   "source": [
    "### Spatial Plot of the Trends"
   ]
  },
  {
   "cell_type": "code",
   "execution_count": 17,
   "id": "71d41a31",
   "metadata": {},
   "outputs": [],
   "source": [
    "import plotly.express as px"
   ]
  },
  {
   "cell_type": "code",
   "execution_count": 18,
   "id": "4d78bbc8",
   "metadata": {},
   "outputs": [
    {
     "name": "stdout",
     "output_type": "stream",
     "text": [
      "                      barbie  oppenheimer\n",
      "geoName                                  \n",
      "Alabama                   71           29\n",
      "Alaska                    69           31\n",
      "Arizona                   72           28\n",
      "Arkansas                  71           29\n",
      "California                69           31\n",
      "Colorado                  69           31\n",
      "Connecticut               69           31\n",
      "Delaware                  69           31\n",
      "District of Columbia      63           37\n",
      "Florida                   72           28\n",
      "Georgia                   73           27\n",
      "Hawaii                    71           29\n",
      "Idaho                     71           29\n",
      "Illinois                  69           31\n",
      "Indiana                   72           28\n",
      "Iowa                      70           30\n",
      "Kansas                    70           30\n",
      "Kentucky                  72           28\n",
      "Louisiana                 72           28\n",
      "Maine                     66           34\n",
      "Maryland                  73           27\n",
      "Massachusetts             67           33\n",
      "Michigan                  71           29\n",
      "Minnesota                 72           28\n",
      "Mississippi               75           25\n",
      "Missouri                  73           27\n",
      "Montana                   69           31\n",
      "Nebraska                  69           31\n",
      "Nevada                    71           29\n",
      "New Hampshire             69           31\n",
      "New Jersey                70           30\n",
      "New Mexico                64           36\n",
      "New York                  65           35\n",
      "North Carolina            70           30\n",
      "North Dakota              70           30\n",
      "Ohio                      72           28\n",
      "Oklahoma                  70           30\n",
      "Oregon                    72           28\n",
      "Pennsylvania              71           29\n",
      "Rhode Island              70           30\n",
      "South Carolina            73           27\n",
      "South Dakota              72           28\n",
      "Tennessee                 73           27\n",
      "Texas                     72           28\n",
      "Utah                      71           29\n",
      "Vermont                   72           28\n",
      "Virginia                  69           31\n",
      "Washington                69           31\n",
      "West Virginia             77           23\n",
      "Wisconsin                 73           27\n",
      "Wyoming                   67           33\n"
     ]
    }
   ],
   "source": [
    "keywords = ['barbie', 'oppenheimer']\n",
    "pytrends.build_payload(keywords, geo='US',\n",
    "                      timeframe='2023-07-01 2023-08-01',\n",
    "                      cat = 3 # 'Arts & Entertainment'\n",
    "                      ) \n",
    "geo_interest = pytrends.interest_by_region()\n",
    "print(geo_interest)"
   ]
  },
  {
   "cell_type": "code",
   "execution_count": 20,
   "id": "b86d6734",
   "metadata": {},
   "outputs": [
    {
     "data": {
      "text/html": [
       "<div>\n",
       "<style scoped>\n",
       "    .dataframe tbody tr th:only-of-type {\n",
       "        vertical-align: middle;\n",
       "    }\n",
       "\n",
       "    .dataframe tbody tr th {\n",
       "        vertical-align: top;\n",
       "    }\n",
       "\n",
       "    .dataframe thead th {\n",
       "        text-align: right;\n",
       "    }\n",
       "</style>\n",
       "<table border=\"1\" class=\"dataframe\">\n",
       "  <thead>\n",
       "    <tr style=\"text-align: right;\">\n",
       "      <th></th>\n",
       "      <th>geoName</th>\n",
       "      <th>barbie</th>\n",
       "      <th>oppenheimer</th>\n",
       "      <th>diff</th>\n",
       "    </tr>\n",
       "  </thead>\n",
       "  <tbody>\n",
       "    <tr>\n",
       "      <th>0</th>\n",
       "      <td>Alabama</td>\n",
       "      <td>71</td>\n",
       "      <td>29</td>\n",
       "      <td>42</td>\n",
       "    </tr>\n",
       "    <tr>\n",
       "      <th>1</th>\n",
       "      <td>Alaska</td>\n",
       "      <td>69</td>\n",
       "      <td>31</td>\n",
       "      <td>38</td>\n",
       "    </tr>\n",
       "    <tr>\n",
       "      <th>2</th>\n",
       "      <td>Arizona</td>\n",
       "      <td>72</td>\n",
       "      <td>28</td>\n",
       "      <td>44</td>\n",
       "    </tr>\n",
       "    <tr>\n",
       "      <th>3</th>\n",
       "      <td>Arkansas</td>\n",
       "      <td>71</td>\n",
       "      <td>29</td>\n",
       "      <td>42</td>\n",
       "    </tr>\n",
       "    <tr>\n",
       "      <th>4</th>\n",
       "      <td>California</td>\n",
       "      <td>69</td>\n",
       "      <td>31</td>\n",
       "      <td>38</td>\n",
       "    </tr>\n",
       "    <tr>\n",
       "      <th>5</th>\n",
       "      <td>Colorado</td>\n",
       "      <td>69</td>\n",
       "      <td>31</td>\n",
       "      <td>38</td>\n",
       "    </tr>\n",
       "    <tr>\n",
       "      <th>6</th>\n",
       "      <td>Connecticut</td>\n",
       "      <td>69</td>\n",
       "      <td>31</td>\n",
       "      <td>38</td>\n",
       "    </tr>\n",
       "    <tr>\n",
       "      <th>7</th>\n",
       "      <td>Delaware</td>\n",
       "      <td>69</td>\n",
       "      <td>31</td>\n",
       "      <td>38</td>\n",
       "    </tr>\n",
       "    <tr>\n",
       "      <th>8</th>\n",
       "      <td>District of Columbia</td>\n",
       "      <td>63</td>\n",
       "      <td>37</td>\n",
       "      <td>26</td>\n",
       "    </tr>\n",
       "    <tr>\n",
       "      <th>9</th>\n",
       "      <td>Florida</td>\n",
       "      <td>72</td>\n",
       "      <td>28</td>\n",
       "      <td>44</td>\n",
       "    </tr>\n",
       "    <tr>\n",
       "      <th>10</th>\n",
       "      <td>Georgia</td>\n",
       "      <td>73</td>\n",
       "      <td>27</td>\n",
       "      <td>46</td>\n",
       "    </tr>\n",
       "    <tr>\n",
       "      <th>11</th>\n",
       "      <td>Hawaii</td>\n",
       "      <td>71</td>\n",
       "      <td>29</td>\n",
       "      <td>42</td>\n",
       "    </tr>\n",
       "    <tr>\n",
       "      <th>12</th>\n",
       "      <td>Idaho</td>\n",
       "      <td>71</td>\n",
       "      <td>29</td>\n",
       "      <td>42</td>\n",
       "    </tr>\n",
       "    <tr>\n",
       "      <th>13</th>\n",
       "      <td>Illinois</td>\n",
       "      <td>69</td>\n",
       "      <td>31</td>\n",
       "      <td>38</td>\n",
       "    </tr>\n",
       "    <tr>\n",
       "      <th>14</th>\n",
       "      <td>Indiana</td>\n",
       "      <td>72</td>\n",
       "      <td>28</td>\n",
       "      <td>44</td>\n",
       "    </tr>\n",
       "    <tr>\n",
       "      <th>15</th>\n",
       "      <td>Iowa</td>\n",
       "      <td>70</td>\n",
       "      <td>30</td>\n",
       "      <td>40</td>\n",
       "    </tr>\n",
       "    <tr>\n",
       "      <th>16</th>\n",
       "      <td>Kansas</td>\n",
       "      <td>70</td>\n",
       "      <td>30</td>\n",
       "      <td>40</td>\n",
       "    </tr>\n",
       "    <tr>\n",
       "      <th>17</th>\n",
       "      <td>Kentucky</td>\n",
       "      <td>72</td>\n",
       "      <td>28</td>\n",
       "      <td>44</td>\n",
       "    </tr>\n",
       "    <tr>\n",
       "      <th>18</th>\n",
       "      <td>Louisiana</td>\n",
       "      <td>72</td>\n",
       "      <td>28</td>\n",
       "      <td>44</td>\n",
       "    </tr>\n",
       "    <tr>\n",
       "      <th>19</th>\n",
       "      <td>Maine</td>\n",
       "      <td>66</td>\n",
       "      <td>34</td>\n",
       "      <td>32</td>\n",
       "    </tr>\n",
       "    <tr>\n",
       "      <th>20</th>\n",
       "      <td>Maryland</td>\n",
       "      <td>73</td>\n",
       "      <td>27</td>\n",
       "      <td>46</td>\n",
       "    </tr>\n",
       "    <tr>\n",
       "      <th>21</th>\n",
       "      <td>Massachusetts</td>\n",
       "      <td>67</td>\n",
       "      <td>33</td>\n",
       "      <td>34</td>\n",
       "    </tr>\n",
       "    <tr>\n",
       "      <th>22</th>\n",
       "      <td>Michigan</td>\n",
       "      <td>71</td>\n",
       "      <td>29</td>\n",
       "      <td>42</td>\n",
       "    </tr>\n",
       "    <tr>\n",
       "      <th>23</th>\n",
       "      <td>Minnesota</td>\n",
       "      <td>72</td>\n",
       "      <td>28</td>\n",
       "      <td>44</td>\n",
       "    </tr>\n",
       "    <tr>\n",
       "      <th>24</th>\n",
       "      <td>Mississippi</td>\n",
       "      <td>75</td>\n",
       "      <td>25</td>\n",
       "      <td>50</td>\n",
       "    </tr>\n",
       "    <tr>\n",
       "      <th>25</th>\n",
       "      <td>Missouri</td>\n",
       "      <td>73</td>\n",
       "      <td>27</td>\n",
       "      <td>46</td>\n",
       "    </tr>\n",
       "    <tr>\n",
       "      <th>26</th>\n",
       "      <td>Montana</td>\n",
       "      <td>69</td>\n",
       "      <td>31</td>\n",
       "      <td>38</td>\n",
       "    </tr>\n",
       "    <tr>\n",
       "      <th>27</th>\n",
       "      <td>Nebraska</td>\n",
       "      <td>69</td>\n",
       "      <td>31</td>\n",
       "      <td>38</td>\n",
       "    </tr>\n",
       "    <tr>\n",
       "      <th>28</th>\n",
       "      <td>Nevada</td>\n",
       "      <td>71</td>\n",
       "      <td>29</td>\n",
       "      <td>42</td>\n",
       "    </tr>\n",
       "    <tr>\n",
       "      <th>29</th>\n",
       "      <td>New Hampshire</td>\n",
       "      <td>69</td>\n",
       "      <td>31</td>\n",
       "      <td>38</td>\n",
       "    </tr>\n",
       "    <tr>\n",
       "      <th>30</th>\n",
       "      <td>New Jersey</td>\n",
       "      <td>70</td>\n",
       "      <td>30</td>\n",
       "      <td>40</td>\n",
       "    </tr>\n",
       "    <tr>\n",
       "      <th>31</th>\n",
       "      <td>New Mexico</td>\n",
       "      <td>64</td>\n",
       "      <td>36</td>\n",
       "      <td>28</td>\n",
       "    </tr>\n",
       "    <tr>\n",
       "      <th>32</th>\n",
       "      <td>New York</td>\n",
       "      <td>65</td>\n",
       "      <td>35</td>\n",
       "      <td>30</td>\n",
       "    </tr>\n",
       "    <tr>\n",
       "      <th>33</th>\n",
       "      <td>North Carolina</td>\n",
       "      <td>70</td>\n",
       "      <td>30</td>\n",
       "      <td>40</td>\n",
       "    </tr>\n",
       "    <tr>\n",
       "      <th>34</th>\n",
       "      <td>North Dakota</td>\n",
       "      <td>70</td>\n",
       "      <td>30</td>\n",
       "      <td>40</td>\n",
       "    </tr>\n",
       "    <tr>\n",
       "      <th>35</th>\n",
       "      <td>Ohio</td>\n",
       "      <td>72</td>\n",
       "      <td>28</td>\n",
       "      <td>44</td>\n",
       "    </tr>\n",
       "    <tr>\n",
       "      <th>36</th>\n",
       "      <td>Oklahoma</td>\n",
       "      <td>70</td>\n",
       "      <td>30</td>\n",
       "      <td>40</td>\n",
       "    </tr>\n",
       "    <tr>\n",
       "      <th>37</th>\n",
       "      <td>Oregon</td>\n",
       "      <td>72</td>\n",
       "      <td>28</td>\n",
       "      <td>44</td>\n",
       "    </tr>\n",
       "    <tr>\n",
       "      <th>38</th>\n",
       "      <td>Pennsylvania</td>\n",
       "      <td>71</td>\n",
       "      <td>29</td>\n",
       "      <td>42</td>\n",
       "    </tr>\n",
       "    <tr>\n",
       "      <th>39</th>\n",
       "      <td>Rhode Island</td>\n",
       "      <td>70</td>\n",
       "      <td>30</td>\n",
       "      <td>40</td>\n",
       "    </tr>\n",
       "    <tr>\n",
       "      <th>40</th>\n",
       "      <td>South Carolina</td>\n",
       "      <td>73</td>\n",
       "      <td>27</td>\n",
       "      <td>46</td>\n",
       "    </tr>\n",
       "    <tr>\n",
       "      <th>41</th>\n",
       "      <td>South Dakota</td>\n",
       "      <td>72</td>\n",
       "      <td>28</td>\n",
       "      <td>44</td>\n",
       "    </tr>\n",
       "    <tr>\n",
       "      <th>42</th>\n",
       "      <td>Tennessee</td>\n",
       "      <td>73</td>\n",
       "      <td>27</td>\n",
       "      <td>46</td>\n",
       "    </tr>\n",
       "    <tr>\n",
       "      <th>43</th>\n",
       "      <td>Texas</td>\n",
       "      <td>72</td>\n",
       "      <td>28</td>\n",
       "      <td>44</td>\n",
       "    </tr>\n",
       "    <tr>\n",
       "      <th>44</th>\n",
       "      <td>Utah</td>\n",
       "      <td>71</td>\n",
       "      <td>29</td>\n",
       "      <td>42</td>\n",
       "    </tr>\n",
       "    <tr>\n",
       "      <th>45</th>\n",
       "      <td>Vermont</td>\n",
       "      <td>72</td>\n",
       "      <td>28</td>\n",
       "      <td>44</td>\n",
       "    </tr>\n",
       "    <tr>\n",
       "      <th>46</th>\n",
       "      <td>Virginia</td>\n",
       "      <td>69</td>\n",
       "      <td>31</td>\n",
       "      <td>38</td>\n",
       "    </tr>\n",
       "    <tr>\n",
       "      <th>47</th>\n",
       "      <td>Washington</td>\n",
       "      <td>69</td>\n",
       "      <td>31</td>\n",
       "      <td>38</td>\n",
       "    </tr>\n",
       "    <tr>\n",
       "      <th>48</th>\n",
       "      <td>West Virginia</td>\n",
       "      <td>77</td>\n",
       "      <td>23</td>\n",
       "      <td>54</td>\n",
       "    </tr>\n",
       "    <tr>\n",
       "      <th>49</th>\n",
       "      <td>Wisconsin</td>\n",
       "      <td>73</td>\n",
       "      <td>27</td>\n",
       "      <td>46</td>\n",
       "    </tr>\n",
       "    <tr>\n",
       "      <th>50</th>\n",
       "      <td>Wyoming</td>\n",
       "      <td>67</td>\n",
       "      <td>33</td>\n",
       "      <td>34</td>\n",
       "    </tr>\n",
       "  </tbody>\n",
       "</table>\n",
       "</div>"
      ],
      "text/plain": [
       "                 geoName  barbie  oppenheimer  diff\n",
       "0                Alabama      71           29    42\n",
       "1                 Alaska      69           31    38\n",
       "2                Arizona      72           28    44\n",
       "3               Arkansas      71           29    42\n",
       "4             California      69           31    38\n",
       "5               Colorado      69           31    38\n",
       "6            Connecticut      69           31    38\n",
       "7               Delaware      69           31    38\n",
       "8   District of Columbia      63           37    26\n",
       "9                Florida      72           28    44\n",
       "10               Georgia      73           27    46\n",
       "11                Hawaii      71           29    42\n",
       "12                 Idaho      71           29    42\n",
       "13              Illinois      69           31    38\n",
       "14               Indiana      72           28    44\n",
       "15                  Iowa      70           30    40\n",
       "16                Kansas      70           30    40\n",
       "17              Kentucky      72           28    44\n",
       "18             Louisiana      72           28    44\n",
       "19                 Maine      66           34    32\n",
       "20              Maryland      73           27    46\n",
       "21         Massachusetts      67           33    34\n",
       "22              Michigan      71           29    42\n",
       "23             Minnesota      72           28    44\n",
       "24           Mississippi      75           25    50\n",
       "25              Missouri      73           27    46\n",
       "26               Montana      69           31    38\n",
       "27              Nebraska      69           31    38\n",
       "28                Nevada      71           29    42\n",
       "29         New Hampshire      69           31    38\n",
       "30            New Jersey      70           30    40\n",
       "31            New Mexico      64           36    28\n",
       "32              New York      65           35    30\n",
       "33        North Carolina      70           30    40\n",
       "34          North Dakota      70           30    40\n",
       "35                  Ohio      72           28    44\n",
       "36              Oklahoma      70           30    40\n",
       "37                Oregon      72           28    44\n",
       "38          Pennsylvania      71           29    42\n",
       "39          Rhode Island      70           30    40\n",
       "40        South Carolina      73           27    46\n",
       "41          South Dakota      72           28    44\n",
       "42             Tennessee      73           27    46\n",
       "43                 Texas      72           28    44\n",
       "44                  Utah      71           29    42\n",
       "45               Vermont      72           28    44\n",
       "46              Virginia      69           31    38\n",
       "47            Washington      69           31    38\n",
       "48         West Virginia      77           23    54\n",
       "49             Wisconsin      73           27    46\n",
       "50               Wyoming      67           33    34"
      ]
     },
     "execution_count": 20,
     "metadata": {},
     "output_type": "execute_result"
    }
   ],
   "source": [
    "geo_interest['diff'] = geo_interest['barbie'] - geo_interest['oppenheimer']\n",
    "geo_interest = geo_interest.reset_index()\n",
    "geo_interest"
   ]
  },
  {
   "cell_type": "code",
   "execution_count": 21,
   "id": "b50961b3",
   "metadata": {},
   "outputs": [],
   "source": [
    "# let's get the state abbreviations\n",
    "\n",
    "us_state_to_abbrev = {\n",
    "    \"Alabama\": \"AL\",\n",
    "    \"Alaska\": \"AK\",\n",
    "    \"Arizona\": \"AZ\",\n",
    "    \"Arkansas\": \"AR\",\n",
    "    \"California\": \"CA\",\n",
    "    \"Colorado\": \"CO\",\n",
    "    \"Connecticut\": \"CT\",\n",
    "    \"Delaware\": \"DE\",\n",
    "    \"Florida\": \"FL\",\n",
    "    \"Georgia\": \"GA\",\n",
    "    \"Hawaii\": \"HI\",\n",
    "    \"Idaho\": \"ID\",\n",
    "    \"Illinois\": \"IL\",\n",
    "    \"Indiana\": \"IN\",\n",
    "    \"Iowa\": \"IA\",\n",
    "    \"Kansas\": \"KS\",\n",
    "    \"Kentucky\": \"KY\",\n",
    "    \"Louisiana\": \"LA\",\n",
    "    \"Maine\": \"ME\",\n",
    "    \"Maryland\": \"MD\",\n",
    "    \"Massachusetts\": \"MA\",\n",
    "    \"Michigan\": \"MI\",\n",
    "    \"Minnesota\": \"MN\",\n",
    "    \"Mississippi\": \"MS\",\n",
    "    \"Missouri\": \"MO\",\n",
    "    \"Montana\": \"MT\",\n",
    "    \"Nebraska\": \"NE\",\n",
    "    \"Nevada\": \"NV\",\n",
    "    \"New Hampshire\": \"NH\",\n",
    "    \"New Jersey\": \"NJ\",\n",
    "    \"New Mexico\": \"NM\",\n",
    "    \"New York\": \"NY\",\n",
    "    \"North Carolina\": \"NC\",\n",
    "    \"North Dakota\": \"ND\",\n",
    "    \"Ohio\": \"OH\",\n",
    "    \"Oklahoma\": \"OK\",\n",
    "    \"Oregon\": \"OR\",\n",
    "    \"Pennsylvania\": \"PA\",\n",
    "    \"Rhode Island\": \"RI\",\n",
    "    \"South Carolina\": \"SC\",\n",
    "    \"South Dakota\": \"SD\",\n",
    "    \"Tennessee\": \"TN\",\n",
    "    \"Texas\": \"TX\",\n",
    "    \"Utah\": \"UT\",\n",
    "    \"Vermont\": \"VT\",\n",
    "    \"Virginia\": \"VA\",\n",
    "    \"Washington\": \"WA\",\n",
    "    \"West Virginia\": \"WV\",\n",
    "    \"Wisconsin\": \"WI\",\n",
    "    \"Wyoming\": \"WY\",\n",
    "    \"District of Columbia\": \"DC\",\n",
    "    \"American Samoa\": \"AS\",\n",
    "    \"Guam\": \"GU\",\n",
    "    \"Northern Mariana Islands\": \"MP\",\n",
    "    \"Puerto Rico\": \"PR\",\n",
    "    \"United States Minor Outlying Islands\": \"UM\",\n",
    "    \"U.S. Virgin Islands\": \"VI\",\n",
    "}\n",
    "    \n",
    "geo_interest['state_code'] = [us_state_to_abbrev[i] for i in geo_interest['geoName']]"
   ]
  },
  {
   "cell_type": "code",
   "execution_count": 22,
   "id": "e659826f",
   "metadata": {},
   "outputs": [
    {
     "data": {
      "text/html": [
       "<div>\n",
       "<style scoped>\n",
       "    .dataframe tbody tr th:only-of-type {\n",
       "        vertical-align: middle;\n",
       "    }\n",
       "\n",
       "    .dataframe tbody tr th {\n",
       "        vertical-align: top;\n",
       "    }\n",
       "\n",
       "    .dataframe thead th {\n",
       "        text-align: right;\n",
       "    }\n",
       "</style>\n",
       "<table border=\"1\" class=\"dataframe\">\n",
       "  <thead>\n",
       "    <tr style=\"text-align: right;\">\n",
       "      <th></th>\n",
       "      <th>geoName</th>\n",
       "      <th>barbie</th>\n",
       "      <th>oppenheimer</th>\n",
       "      <th>diff</th>\n",
       "      <th>state_code</th>\n",
       "    </tr>\n",
       "  </thead>\n",
       "  <tbody>\n",
       "    <tr>\n",
       "      <th>0</th>\n",
       "      <td>Alabama</td>\n",
       "      <td>71</td>\n",
       "      <td>29</td>\n",
       "      <td>42</td>\n",
       "      <td>AL</td>\n",
       "    </tr>\n",
       "    <tr>\n",
       "      <th>1</th>\n",
       "      <td>Alaska</td>\n",
       "      <td>69</td>\n",
       "      <td>31</td>\n",
       "      <td>38</td>\n",
       "      <td>AK</td>\n",
       "    </tr>\n",
       "    <tr>\n",
       "      <th>2</th>\n",
       "      <td>Arizona</td>\n",
       "      <td>72</td>\n",
       "      <td>28</td>\n",
       "      <td>44</td>\n",
       "      <td>AZ</td>\n",
       "    </tr>\n",
       "    <tr>\n",
       "      <th>3</th>\n",
       "      <td>Arkansas</td>\n",
       "      <td>71</td>\n",
       "      <td>29</td>\n",
       "      <td>42</td>\n",
       "      <td>AR</td>\n",
       "    </tr>\n",
       "    <tr>\n",
       "      <th>4</th>\n",
       "      <td>California</td>\n",
       "      <td>69</td>\n",
       "      <td>31</td>\n",
       "      <td>38</td>\n",
       "      <td>CA</td>\n",
       "    </tr>\n",
       "    <tr>\n",
       "      <th>5</th>\n",
       "      <td>Colorado</td>\n",
       "      <td>69</td>\n",
       "      <td>31</td>\n",
       "      <td>38</td>\n",
       "      <td>CO</td>\n",
       "    </tr>\n",
       "    <tr>\n",
       "      <th>6</th>\n",
       "      <td>Connecticut</td>\n",
       "      <td>69</td>\n",
       "      <td>31</td>\n",
       "      <td>38</td>\n",
       "      <td>CT</td>\n",
       "    </tr>\n",
       "    <tr>\n",
       "      <th>7</th>\n",
       "      <td>Delaware</td>\n",
       "      <td>69</td>\n",
       "      <td>31</td>\n",
       "      <td>38</td>\n",
       "      <td>DE</td>\n",
       "    </tr>\n",
       "    <tr>\n",
       "      <th>8</th>\n",
       "      <td>District of Columbia</td>\n",
       "      <td>63</td>\n",
       "      <td>37</td>\n",
       "      <td>26</td>\n",
       "      <td>DC</td>\n",
       "    </tr>\n",
       "    <tr>\n",
       "      <th>9</th>\n",
       "      <td>Florida</td>\n",
       "      <td>72</td>\n",
       "      <td>28</td>\n",
       "      <td>44</td>\n",
       "      <td>FL</td>\n",
       "    </tr>\n",
       "    <tr>\n",
       "      <th>10</th>\n",
       "      <td>Georgia</td>\n",
       "      <td>73</td>\n",
       "      <td>27</td>\n",
       "      <td>46</td>\n",
       "      <td>GA</td>\n",
       "    </tr>\n",
       "    <tr>\n",
       "      <th>11</th>\n",
       "      <td>Hawaii</td>\n",
       "      <td>71</td>\n",
       "      <td>29</td>\n",
       "      <td>42</td>\n",
       "      <td>HI</td>\n",
       "    </tr>\n",
       "    <tr>\n",
       "      <th>12</th>\n",
       "      <td>Idaho</td>\n",
       "      <td>71</td>\n",
       "      <td>29</td>\n",
       "      <td>42</td>\n",
       "      <td>ID</td>\n",
       "    </tr>\n",
       "    <tr>\n",
       "      <th>13</th>\n",
       "      <td>Illinois</td>\n",
       "      <td>69</td>\n",
       "      <td>31</td>\n",
       "      <td>38</td>\n",
       "      <td>IL</td>\n",
       "    </tr>\n",
       "    <tr>\n",
       "      <th>14</th>\n",
       "      <td>Indiana</td>\n",
       "      <td>72</td>\n",
       "      <td>28</td>\n",
       "      <td>44</td>\n",
       "      <td>IN</td>\n",
       "    </tr>\n",
       "    <tr>\n",
       "      <th>15</th>\n",
       "      <td>Iowa</td>\n",
       "      <td>70</td>\n",
       "      <td>30</td>\n",
       "      <td>40</td>\n",
       "      <td>IA</td>\n",
       "    </tr>\n",
       "    <tr>\n",
       "      <th>16</th>\n",
       "      <td>Kansas</td>\n",
       "      <td>70</td>\n",
       "      <td>30</td>\n",
       "      <td>40</td>\n",
       "      <td>KS</td>\n",
       "    </tr>\n",
       "    <tr>\n",
       "      <th>17</th>\n",
       "      <td>Kentucky</td>\n",
       "      <td>72</td>\n",
       "      <td>28</td>\n",
       "      <td>44</td>\n",
       "      <td>KY</td>\n",
       "    </tr>\n",
       "    <tr>\n",
       "      <th>18</th>\n",
       "      <td>Louisiana</td>\n",
       "      <td>72</td>\n",
       "      <td>28</td>\n",
       "      <td>44</td>\n",
       "      <td>LA</td>\n",
       "    </tr>\n",
       "    <tr>\n",
       "      <th>19</th>\n",
       "      <td>Maine</td>\n",
       "      <td>66</td>\n",
       "      <td>34</td>\n",
       "      <td>32</td>\n",
       "      <td>ME</td>\n",
       "    </tr>\n",
       "    <tr>\n",
       "      <th>20</th>\n",
       "      <td>Maryland</td>\n",
       "      <td>73</td>\n",
       "      <td>27</td>\n",
       "      <td>46</td>\n",
       "      <td>MD</td>\n",
       "    </tr>\n",
       "    <tr>\n",
       "      <th>21</th>\n",
       "      <td>Massachusetts</td>\n",
       "      <td>67</td>\n",
       "      <td>33</td>\n",
       "      <td>34</td>\n",
       "      <td>MA</td>\n",
       "    </tr>\n",
       "    <tr>\n",
       "      <th>22</th>\n",
       "      <td>Michigan</td>\n",
       "      <td>71</td>\n",
       "      <td>29</td>\n",
       "      <td>42</td>\n",
       "      <td>MI</td>\n",
       "    </tr>\n",
       "    <tr>\n",
       "      <th>23</th>\n",
       "      <td>Minnesota</td>\n",
       "      <td>72</td>\n",
       "      <td>28</td>\n",
       "      <td>44</td>\n",
       "      <td>MN</td>\n",
       "    </tr>\n",
       "    <tr>\n",
       "      <th>24</th>\n",
       "      <td>Mississippi</td>\n",
       "      <td>75</td>\n",
       "      <td>25</td>\n",
       "      <td>50</td>\n",
       "      <td>MS</td>\n",
       "    </tr>\n",
       "    <tr>\n",
       "      <th>25</th>\n",
       "      <td>Missouri</td>\n",
       "      <td>73</td>\n",
       "      <td>27</td>\n",
       "      <td>46</td>\n",
       "      <td>MO</td>\n",
       "    </tr>\n",
       "    <tr>\n",
       "      <th>26</th>\n",
       "      <td>Montana</td>\n",
       "      <td>69</td>\n",
       "      <td>31</td>\n",
       "      <td>38</td>\n",
       "      <td>MT</td>\n",
       "    </tr>\n",
       "    <tr>\n",
       "      <th>27</th>\n",
       "      <td>Nebraska</td>\n",
       "      <td>69</td>\n",
       "      <td>31</td>\n",
       "      <td>38</td>\n",
       "      <td>NE</td>\n",
       "    </tr>\n",
       "    <tr>\n",
       "      <th>28</th>\n",
       "      <td>Nevada</td>\n",
       "      <td>71</td>\n",
       "      <td>29</td>\n",
       "      <td>42</td>\n",
       "      <td>NV</td>\n",
       "    </tr>\n",
       "    <tr>\n",
       "      <th>29</th>\n",
       "      <td>New Hampshire</td>\n",
       "      <td>69</td>\n",
       "      <td>31</td>\n",
       "      <td>38</td>\n",
       "      <td>NH</td>\n",
       "    </tr>\n",
       "    <tr>\n",
       "      <th>30</th>\n",
       "      <td>New Jersey</td>\n",
       "      <td>70</td>\n",
       "      <td>30</td>\n",
       "      <td>40</td>\n",
       "      <td>NJ</td>\n",
       "    </tr>\n",
       "    <tr>\n",
       "      <th>31</th>\n",
       "      <td>New Mexico</td>\n",
       "      <td>64</td>\n",
       "      <td>36</td>\n",
       "      <td>28</td>\n",
       "      <td>NM</td>\n",
       "    </tr>\n",
       "    <tr>\n",
       "      <th>32</th>\n",
       "      <td>New York</td>\n",
       "      <td>65</td>\n",
       "      <td>35</td>\n",
       "      <td>30</td>\n",
       "      <td>NY</td>\n",
       "    </tr>\n",
       "    <tr>\n",
       "      <th>33</th>\n",
       "      <td>North Carolina</td>\n",
       "      <td>70</td>\n",
       "      <td>30</td>\n",
       "      <td>40</td>\n",
       "      <td>NC</td>\n",
       "    </tr>\n",
       "    <tr>\n",
       "      <th>34</th>\n",
       "      <td>North Dakota</td>\n",
       "      <td>70</td>\n",
       "      <td>30</td>\n",
       "      <td>40</td>\n",
       "      <td>ND</td>\n",
       "    </tr>\n",
       "    <tr>\n",
       "      <th>35</th>\n",
       "      <td>Ohio</td>\n",
       "      <td>72</td>\n",
       "      <td>28</td>\n",
       "      <td>44</td>\n",
       "      <td>OH</td>\n",
       "    </tr>\n",
       "    <tr>\n",
       "      <th>36</th>\n",
       "      <td>Oklahoma</td>\n",
       "      <td>70</td>\n",
       "      <td>30</td>\n",
       "      <td>40</td>\n",
       "      <td>OK</td>\n",
       "    </tr>\n",
       "    <tr>\n",
       "      <th>37</th>\n",
       "      <td>Oregon</td>\n",
       "      <td>72</td>\n",
       "      <td>28</td>\n",
       "      <td>44</td>\n",
       "      <td>OR</td>\n",
       "    </tr>\n",
       "    <tr>\n",
       "      <th>38</th>\n",
       "      <td>Pennsylvania</td>\n",
       "      <td>71</td>\n",
       "      <td>29</td>\n",
       "      <td>42</td>\n",
       "      <td>PA</td>\n",
       "    </tr>\n",
       "    <tr>\n",
       "      <th>39</th>\n",
       "      <td>Rhode Island</td>\n",
       "      <td>70</td>\n",
       "      <td>30</td>\n",
       "      <td>40</td>\n",
       "      <td>RI</td>\n",
       "    </tr>\n",
       "    <tr>\n",
       "      <th>40</th>\n",
       "      <td>South Carolina</td>\n",
       "      <td>73</td>\n",
       "      <td>27</td>\n",
       "      <td>46</td>\n",
       "      <td>SC</td>\n",
       "    </tr>\n",
       "    <tr>\n",
       "      <th>41</th>\n",
       "      <td>South Dakota</td>\n",
       "      <td>72</td>\n",
       "      <td>28</td>\n",
       "      <td>44</td>\n",
       "      <td>SD</td>\n",
       "    </tr>\n",
       "    <tr>\n",
       "      <th>42</th>\n",
       "      <td>Tennessee</td>\n",
       "      <td>73</td>\n",
       "      <td>27</td>\n",
       "      <td>46</td>\n",
       "      <td>TN</td>\n",
       "    </tr>\n",
       "    <tr>\n",
       "      <th>43</th>\n",
       "      <td>Texas</td>\n",
       "      <td>72</td>\n",
       "      <td>28</td>\n",
       "      <td>44</td>\n",
       "      <td>TX</td>\n",
       "    </tr>\n",
       "    <tr>\n",
       "      <th>44</th>\n",
       "      <td>Utah</td>\n",
       "      <td>71</td>\n",
       "      <td>29</td>\n",
       "      <td>42</td>\n",
       "      <td>UT</td>\n",
       "    </tr>\n",
       "    <tr>\n",
       "      <th>45</th>\n",
       "      <td>Vermont</td>\n",
       "      <td>72</td>\n",
       "      <td>28</td>\n",
       "      <td>44</td>\n",
       "      <td>VT</td>\n",
       "    </tr>\n",
       "    <tr>\n",
       "      <th>46</th>\n",
       "      <td>Virginia</td>\n",
       "      <td>69</td>\n",
       "      <td>31</td>\n",
       "      <td>38</td>\n",
       "      <td>VA</td>\n",
       "    </tr>\n",
       "    <tr>\n",
       "      <th>47</th>\n",
       "      <td>Washington</td>\n",
       "      <td>69</td>\n",
       "      <td>31</td>\n",
       "      <td>38</td>\n",
       "      <td>WA</td>\n",
       "    </tr>\n",
       "    <tr>\n",
       "      <th>48</th>\n",
       "      <td>West Virginia</td>\n",
       "      <td>77</td>\n",
       "      <td>23</td>\n",
       "      <td>54</td>\n",
       "      <td>WV</td>\n",
       "    </tr>\n",
       "    <tr>\n",
       "      <th>49</th>\n",
       "      <td>Wisconsin</td>\n",
       "      <td>73</td>\n",
       "      <td>27</td>\n",
       "      <td>46</td>\n",
       "      <td>WI</td>\n",
       "    </tr>\n",
       "    <tr>\n",
       "      <th>50</th>\n",
       "      <td>Wyoming</td>\n",
       "      <td>67</td>\n",
       "      <td>33</td>\n",
       "      <td>34</td>\n",
       "      <td>WY</td>\n",
       "    </tr>\n",
       "  </tbody>\n",
       "</table>\n",
       "</div>"
      ],
      "text/plain": [
       "                 geoName  barbie  oppenheimer  diff state_code\n",
       "0                Alabama      71           29    42         AL\n",
       "1                 Alaska      69           31    38         AK\n",
       "2                Arizona      72           28    44         AZ\n",
       "3               Arkansas      71           29    42         AR\n",
       "4             California      69           31    38         CA\n",
       "5               Colorado      69           31    38         CO\n",
       "6            Connecticut      69           31    38         CT\n",
       "7               Delaware      69           31    38         DE\n",
       "8   District of Columbia      63           37    26         DC\n",
       "9                Florida      72           28    44         FL\n",
       "10               Georgia      73           27    46         GA\n",
       "11                Hawaii      71           29    42         HI\n",
       "12                 Idaho      71           29    42         ID\n",
       "13              Illinois      69           31    38         IL\n",
       "14               Indiana      72           28    44         IN\n",
       "15                  Iowa      70           30    40         IA\n",
       "16                Kansas      70           30    40         KS\n",
       "17              Kentucky      72           28    44         KY\n",
       "18             Louisiana      72           28    44         LA\n",
       "19                 Maine      66           34    32         ME\n",
       "20              Maryland      73           27    46         MD\n",
       "21         Massachusetts      67           33    34         MA\n",
       "22              Michigan      71           29    42         MI\n",
       "23             Minnesota      72           28    44         MN\n",
       "24           Mississippi      75           25    50         MS\n",
       "25              Missouri      73           27    46         MO\n",
       "26               Montana      69           31    38         MT\n",
       "27              Nebraska      69           31    38         NE\n",
       "28                Nevada      71           29    42         NV\n",
       "29         New Hampshire      69           31    38         NH\n",
       "30            New Jersey      70           30    40         NJ\n",
       "31            New Mexico      64           36    28         NM\n",
       "32              New York      65           35    30         NY\n",
       "33        North Carolina      70           30    40         NC\n",
       "34          North Dakota      70           30    40         ND\n",
       "35                  Ohio      72           28    44         OH\n",
       "36              Oklahoma      70           30    40         OK\n",
       "37                Oregon      72           28    44         OR\n",
       "38          Pennsylvania      71           29    42         PA\n",
       "39          Rhode Island      70           30    40         RI\n",
       "40        South Carolina      73           27    46         SC\n",
       "41          South Dakota      72           28    44         SD\n",
       "42             Tennessee      73           27    46         TN\n",
       "43                 Texas      72           28    44         TX\n",
       "44                  Utah      71           29    42         UT\n",
       "45               Vermont      72           28    44         VT\n",
       "46              Virginia      69           31    38         VA\n",
       "47            Washington      69           31    38         WA\n",
       "48         West Virginia      77           23    54         WV\n",
       "49             Wisconsin      73           27    46         WI\n",
       "50               Wyoming      67           33    34         WY"
      ]
     },
     "execution_count": 22,
     "metadata": {},
     "output_type": "execute_result"
    }
   ],
   "source": [
    "geo_interest"
   ]
  },
  {
   "cell_type": "code",
   "execution_count": 35,
   "id": "ff5be06f",
   "metadata": {},
   "outputs": [
    {
     "data": {
      "application/vnd.plotly.v1+json": {
       "config": {
        "plotlyServerURL": "https://plot.ly"
       },
       "data": [
        {
         "coloraxis": "coloraxis",
         "geo": "geo",
         "hovertemplate": "<b>%{hovertext}</b><br><br>state_code=%{location}<br>diff=%{z}<extra></extra>",
         "hovertext": [
          "AL",
          "AK",
          "AZ",
          "AR",
          "CA",
          "CO",
          "CT",
          "DE",
          "DC",
          "FL",
          "GA",
          "HI",
          "ID",
          "IL",
          "IN",
          "IA",
          "KS",
          "KY",
          "LA",
          "ME",
          "MD",
          "MA",
          "MI",
          "MN",
          "MS",
          "MO",
          "MT",
          "NE",
          "NV",
          "NH",
          "NJ",
          "NM",
          "NY",
          "NC",
          "ND",
          "OH",
          "OK",
          "OR",
          "PA",
          "RI",
          "SC",
          "SD",
          "TN",
          "TX",
          "UT",
          "VT",
          "VA",
          "WA",
          "WV",
          "WI",
          "WY"
         ],
         "locationmode": "USA-states",
         "locations": [
          "AL",
          "AK",
          "AZ",
          "AR",
          "CA",
          "CO",
          "CT",
          "DE",
          "DC",
          "FL",
          "GA",
          "HI",
          "ID",
          "IL",
          "IN",
          "IA",
          "KS",
          "KY",
          "LA",
          "ME",
          "MD",
          "MA",
          "MI",
          "MN",
          "MS",
          "MO",
          "MT",
          "NE",
          "NV",
          "NH",
          "NJ",
          "NM",
          "NY",
          "NC",
          "ND",
          "OH",
          "OK",
          "OR",
          "PA",
          "RI",
          "SC",
          "SD",
          "TN",
          "TX",
          "UT",
          "VT",
          "VA",
          "WA",
          "WV",
          "WI",
          "WY"
         ],
         "name": "",
         "type": "choropleth",
         "z": [
          42,
          38,
          44,
          42,
          38,
          38,
          38,
          38,
          26,
          44,
          46,
          42,
          42,
          38,
          44,
          40,
          40,
          44,
          44,
          32,
          46,
          34,
          42,
          44,
          50,
          46,
          38,
          38,
          42,
          38,
          40,
          28,
          30,
          40,
          40,
          44,
          40,
          44,
          42,
          40,
          46,
          44,
          46,
          44,
          42,
          44,
          38,
          38,
          54,
          46,
          34
         ]
        },
        {
         "locationmode": "USA-states",
         "locations": [
          "AL",
          "AK",
          "AZ",
          "AR",
          "CA",
          "CO",
          "CT",
          "DE",
          "DC",
          "FL",
          "GA",
          "HI",
          "ID",
          "IL",
          "IN",
          "IA",
          "KS",
          "KY",
          "LA",
          "ME",
          "MD",
          "MA",
          "MI",
          "MN",
          "MS",
          "MO",
          "MT",
          "NE",
          "NV",
          "NH",
          "NJ",
          "NM",
          "NY",
          "NC",
          "ND",
          "OH",
          "OK",
          "OR",
          "PA",
          "RI",
          "SC",
          "SD",
          "TN",
          "TX",
          "UT",
          "VT",
          "VA",
          "WA",
          "WV",
          "WI",
          "WY"
         ],
         "mode": "text",
         "text": [
          "AL",
          "AK",
          "AZ",
          "AR",
          "CA",
          "CO",
          "CT",
          "DE",
          "DC",
          "FL",
          "GA",
          "HI",
          "ID",
          "IL",
          "IN",
          "IA",
          "KS",
          "KY",
          "LA",
          "ME",
          "MD",
          "MA",
          "MI",
          "MN",
          "MS",
          "MO",
          "MT",
          "NE",
          "NV",
          "NH",
          "NJ",
          "NM",
          "NY",
          "NC",
          "ND",
          "OH",
          "OK",
          "OR",
          "PA",
          "RI",
          "SC",
          "SD",
          "TN",
          "TX",
          "UT",
          "VT",
          "VA",
          "WA",
          "WV",
          "WI",
          "WY"
         ],
         "type": "scattergeo"
        }
       ],
       "layout": {
        "autosize": true,
        "coloraxis": {
         "colorbar": {
          "title": {
           "text": "diff"
          }
         },
         "colorscale": [
          [
           0,
           "rgb(94,79,162)"
          ],
          [
           0.1,
           "rgb(50,136,189)"
          ],
          [
           0.2,
           "rgb(102,194,165)"
          ],
          [
           0.3,
           "rgb(171,221,164)"
          ],
          [
           0.4,
           "rgb(230,245,152)"
          ],
          [
           0.5,
           "rgb(255,255,191)"
          ],
          [
           0.6,
           "rgb(254,224,139)"
          ],
          [
           0.7,
           "rgb(253,174,97)"
          ],
          [
           0.8,
           "rgb(244,109,67)"
          ],
          [
           0.9,
           "rgb(213,62,79)"
          ],
          [
           1,
           "rgb(158,1,66)"
          ]
         ]
        },
        "geo": {
         "center": {},
         "domain": {
          "x": [
           0,
           1
          ],
          "y": [
           0,
           1
          ]
         },
         "scope": "usa"
        },
        "legend": {
         "tracegroupgap": 0
        },
        "margin": {
         "b": 0,
         "l": 0,
         "r": 0,
         "t": 10
        },
        "template": {
         "data": {
          "bar": [
           {
            "error_x": {
             "color": "#2a3f5f"
            },
            "error_y": {
             "color": "#2a3f5f"
            },
            "marker": {
             "line": {
              "color": "#E5ECF6",
              "width": 0.5
             },
             "pattern": {
              "fillmode": "overlay",
              "size": 10,
              "solidity": 0.2
             }
            },
            "type": "bar"
           }
          ],
          "barpolar": [
           {
            "marker": {
             "line": {
              "color": "#E5ECF6",
              "width": 0.5
             },
             "pattern": {
              "fillmode": "overlay",
              "size": 10,
              "solidity": 0.2
             }
            },
            "type": "barpolar"
           }
          ],
          "carpet": [
           {
            "aaxis": {
             "endlinecolor": "#2a3f5f",
             "gridcolor": "white",
             "linecolor": "white",
             "minorgridcolor": "white",
             "startlinecolor": "#2a3f5f"
            },
            "baxis": {
             "endlinecolor": "#2a3f5f",
             "gridcolor": "white",
             "linecolor": "white",
             "minorgridcolor": "white",
             "startlinecolor": "#2a3f5f"
            },
            "type": "carpet"
           }
          ],
          "choropleth": [
           {
            "colorbar": {
             "outlinewidth": 0,
             "ticks": ""
            },
            "type": "choropleth"
           }
          ],
          "contour": [
           {
            "colorbar": {
             "outlinewidth": 0,
             "ticks": ""
            },
            "colorscale": [
             [
              0,
              "#0d0887"
             ],
             [
              0.1111111111111111,
              "#46039f"
             ],
             [
              0.2222222222222222,
              "#7201a8"
             ],
             [
              0.3333333333333333,
              "#9c179e"
             ],
             [
              0.4444444444444444,
              "#bd3786"
             ],
             [
              0.5555555555555556,
              "#d8576b"
             ],
             [
              0.6666666666666666,
              "#ed7953"
             ],
             [
              0.7777777777777778,
              "#fb9f3a"
             ],
             [
              0.8888888888888888,
              "#fdca26"
             ],
             [
              1,
              "#f0f921"
             ]
            ],
            "type": "contour"
           }
          ],
          "contourcarpet": [
           {
            "colorbar": {
             "outlinewidth": 0,
             "ticks": ""
            },
            "type": "contourcarpet"
           }
          ],
          "heatmap": [
           {
            "colorbar": {
             "outlinewidth": 0,
             "ticks": ""
            },
            "colorscale": [
             [
              0,
              "#0d0887"
             ],
             [
              0.1111111111111111,
              "#46039f"
             ],
             [
              0.2222222222222222,
              "#7201a8"
             ],
             [
              0.3333333333333333,
              "#9c179e"
             ],
             [
              0.4444444444444444,
              "#bd3786"
             ],
             [
              0.5555555555555556,
              "#d8576b"
             ],
             [
              0.6666666666666666,
              "#ed7953"
             ],
             [
              0.7777777777777778,
              "#fb9f3a"
             ],
             [
              0.8888888888888888,
              "#fdca26"
             ],
             [
              1,
              "#f0f921"
             ]
            ],
            "type": "heatmap"
           }
          ],
          "heatmapgl": [
           {
            "colorbar": {
             "outlinewidth": 0,
             "ticks": ""
            },
            "colorscale": [
             [
              0,
              "#0d0887"
             ],
             [
              0.1111111111111111,
              "#46039f"
             ],
             [
              0.2222222222222222,
              "#7201a8"
             ],
             [
              0.3333333333333333,
              "#9c179e"
             ],
             [
              0.4444444444444444,
              "#bd3786"
             ],
             [
              0.5555555555555556,
              "#d8576b"
             ],
             [
              0.6666666666666666,
              "#ed7953"
             ],
             [
              0.7777777777777778,
              "#fb9f3a"
             ],
             [
              0.8888888888888888,
              "#fdca26"
             ],
             [
              1,
              "#f0f921"
             ]
            ],
            "type": "heatmapgl"
           }
          ],
          "histogram": [
           {
            "marker": {
             "pattern": {
              "fillmode": "overlay",
              "size": 10,
              "solidity": 0.2
             }
            },
            "type": "histogram"
           }
          ],
          "histogram2d": [
           {
            "colorbar": {
             "outlinewidth": 0,
             "ticks": ""
            },
            "colorscale": [
             [
              0,
              "#0d0887"
             ],
             [
              0.1111111111111111,
              "#46039f"
             ],
             [
              0.2222222222222222,
              "#7201a8"
             ],
             [
              0.3333333333333333,
              "#9c179e"
             ],
             [
              0.4444444444444444,
              "#bd3786"
             ],
             [
              0.5555555555555556,
              "#d8576b"
             ],
             [
              0.6666666666666666,
              "#ed7953"
             ],
             [
              0.7777777777777778,
              "#fb9f3a"
             ],
             [
              0.8888888888888888,
              "#fdca26"
             ],
             [
              1,
              "#f0f921"
             ]
            ],
            "type": "histogram2d"
           }
          ],
          "histogram2dcontour": [
           {
            "colorbar": {
             "outlinewidth": 0,
             "ticks": ""
            },
            "colorscale": [
             [
              0,
              "#0d0887"
             ],
             [
              0.1111111111111111,
              "#46039f"
             ],
             [
              0.2222222222222222,
              "#7201a8"
             ],
             [
              0.3333333333333333,
              "#9c179e"
             ],
             [
              0.4444444444444444,
              "#bd3786"
             ],
             [
              0.5555555555555556,
              "#d8576b"
             ],
             [
              0.6666666666666666,
              "#ed7953"
             ],
             [
              0.7777777777777778,
              "#fb9f3a"
             ],
             [
              0.8888888888888888,
              "#fdca26"
             ],
             [
              1,
              "#f0f921"
             ]
            ],
            "type": "histogram2dcontour"
           }
          ],
          "mesh3d": [
           {
            "colorbar": {
             "outlinewidth": 0,
             "ticks": ""
            },
            "type": "mesh3d"
           }
          ],
          "parcoords": [
           {
            "line": {
             "colorbar": {
              "outlinewidth": 0,
              "ticks": ""
             }
            },
            "type": "parcoords"
           }
          ],
          "pie": [
           {
            "automargin": true,
            "type": "pie"
           }
          ],
          "scatter": [
           {
            "fillpattern": {
             "fillmode": "overlay",
             "size": 10,
             "solidity": 0.2
            },
            "type": "scatter"
           }
          ],
          "scatter3d": [
           {
            "line": {
             "colorbar": {
              "outlinewidth": 0,
              "ticks": ""
             }
            },
            "marker": {
             "colorbar": {
              "outlinewidth": 0,
              "ticks": ""
             }
            },
            "type": "scatter3d"
           }
          ],
          "scattercarpet": [
           {
            "marker": {
             "colorbar": {
              "outlinewidth": 0,
              "ticks": ""
             }
            },
            "type": "scattercarpet"
           }
          ],
          "scattergeo": [
           {
            "marker": {
             "colorbar": {
              "outlinewidth": 0,
              "ticks": ""
             }
            },
            "type": "scattergeo"
           }
          ],
          "scattergl": [
           {
            "marker": {
             "colorbar": {
              "outlinewidth": 0,
              "ticks": ""
             }
            },
            "type": "scattergl"
           }
          ],
          "scattermapbox": [
           {
            "marker": {
             "colorbar": {
              "outlinewidth": 0,
              "ticks": ""
             }
            },
            "type": "scattermapbox"
           }
          ],
          "scatterpolar": [
           {
            "marker": {
             "colorbar": {
              "outlinewidth": 0,
              "ticks": ""
             }
            },
            "type": "scatterpolar"
           }
          ],
          "scatterpolargl": [
           {
            "marker": {
             "colorbar": {
              "outlinewidth": 0,
              "ticks": ""
             }
            },
            "type": "scatterpolargl"
           }
          ],
          "scatterternary": [
           {
            "marker": {
             "colorbar": {
              "outlinewidth": 0,
              "ticks": ""
             }
            },
            "type": "scatterternary"
           }
          ],
          "surface": [
           {
            "colorbar": {
             "outlinewidth": 0,
             "ticks": ""
            },
            "colorscale": [
             [
              0,
              "#0d0887"
             ],
             [
              0.1111111111111111,
              "#46039f"
             ],
             [
              0.2222222222222222,
              "#7201a8"
             ],
             [
              0.3333333333333333,
              "#9c179e"
             ],
             [
              0.4444444444444444,
              "#bd3786"
             ],
             [
              0.5555555555555556,
              "#d8576b"
             ],
             [
              0.6666666666666666,
              "#ed7953"
             ],
             [
              0.7777777777777778,
              "#fb9f3a"
             ],
             [
              0.8888888888888888,
              "#fdca26"
             ],
             [
              1,
              "#f0f921"
             ]
            ],
            "type": "surface"
           }
          ],
          "table": [
           {
            "cells": {
             "fill": {
              "color": "#EBF0F8"
             },
             "line": {
              "color": "white"
             }
            },
            "header": {
             "fill": {
              "color": "#C8D4E3"
             },
             "line": {
              "color": "white"
             }
            },
            "type": "table"
           }
          ]
         },
         "layout": {
          "annotationdefaults": {
           "arrowcolor": "#2a3f5f",
           "arrowhead": 0,
           "arrowwidth": 1
          },
          "autotypenumbers": "strict",
          "coloraxis": {
           "colorbar": {
            "outlinewidth": 0,
            "ticks": ""
           }
          },
          "colorscale": {
           "diverging": [
            [
             0,
             "#8e0152"
            ],
            [
             0.1,
             "#c51b7d"
            ],
            [
             0.2,
             "#de77ae"
            ],
            [
             0.3,
             "#f1b6da"
            ],
            [
             0.4,
             "#fde0ef"
            ],
            [
             0.5,
             "#f7f7f7"
            ],
            [
             0.6,
             "#e6f5d0"
            ],
            [
             0.7,
             "#b8e186"
            ],
            [
             0.8,
             "#7fbc41"
            ],
            [
             0.9,
             "#4d9221"
            ],
            [
             1,
             "#276419"
            ]
           ],
           "sequential": [
            [
             0,
             "#0d0887"
            ],
            [
             0.1111111111111111,
             "#46039f"
            ],
            [
             0.2222222222222222,
             "#7201a8"
            ],
            [
             0.3333333333333333,
             "#9c179e"
            ],
            [
             0.4444444444444444,
             "#bd3786"
            ],
            [
             0.5555555555555556,
             "#d8576b"
            ],
            [
             0.6666666666666666,
             "#ed7953"
            ],
            [
             0.7777777777777778,
             "#fb9f3a"
            ],
            [
             0.8888888888888888,
             "#fdca26"
            ],
            [
             1,
             "#f0f921"
            ]
           ],
           "sequentialminus": [
            [
             0,
             "#0d0887"
            ],
            [
             0.1111111111111111,
             "#46039f"
            ],
            [
             0.2222222222222222,
             "#7201a8"
            ],
            [
             0.3333333333333333,
             "#9c179e"
            ],
            [
             0.4444444444444444,
             "#bd3786"
            ],
            [
             0.5555555555555556,
             "#d8576b"
            ],
            [
             0.6666666666666666,
             "#ed7953"
            ],
            [
             0.7777777777777778,
             "#fb9f3a"
            ],
            [
             0.8888888888888888,
             "#fdca26"
            ],
            [
             1,
             "#f0f921"
            ]
           ]
          },
          "colorway": [
           "#636efa",
           "#EF553B",
           "#00cc96",
           "#ab63fa",
           "#FFA15A",
           "#19d3f3",
           "#FF6692",
           "#B6E880",
           "#FF97FF",
           "#FECB52"
          ],
          "font": {
           "color": "#2a3f5f"
          },
          "geo": {
           "bgcolor": "white",
           "lakecolor": "white",
           "landcolor": "#E5ECF6",
           "showlakes": true,
           "showland": true,
           "subunitcolor": "white"
          },
          "hoverlabel": {
           "align": "left"
          },
          "hovermode": "closest",
          "mapbox": {
           "style": "light"
          },
          "paper_bgcolor": "white",
          "plot_bgcolor": "#E5ECF6",
          "polar": {
           "angularaxis": {
            "gridcolor": "white",
            "linecolor": "white",
            "ticks": ""
           },
           "bgcolor": "#E5ECF6",
           "radialaxis": {
            "gridcolor": "white",
            "linecolor": "white",
            "ticks": ""
           }
          },
          "scene": {
           "xaxis": {
            "backgroundcolor": "#E5ECF6",
            "gridcolor": "white",
            "gridwidth": 2,
            "linecolor": "white",
            "showbackground": true,
            "ticks": "",
            "zerolinecolor": "white"
           },
           "yaxis": {
            "backgroundcolor": "#E5ECF6",
            "gridcolor": "white",
            "gridwidth": 2,
            "linecolor": "white",
            "showbackground": true,
            "ticks": "",
            "zerolinecolor": "white"
           },
           "zaxis": {
            "backgroundcolor": "#E5ECF6",
            "gridcolor": "white",
            "gridwidth": 2,
            "linecolor": "white",
            "showbackground": true,
            "ticks": "",
            "zerolinecolor": "white"
           }
          },
          "shapedefaults": {
           "line": {
            "color": "#2a3f5f"
           }
          },
          "ternary": {
           "aaxis": {
            "gridcolor": "white",
            "linecolor": "white",
            "ticks": ""
           },
           "baxis": {
            "gridcolor": "white",
            "linecolor": "white",
            "ticks": ""
           },
           "bgcolor": "#E5ECF6",
           "caxis": {
            "gridcolor": "white",
            "linecolor": "white",
            "ticks": ""
           }
          },
          "title": {
           "x": 0.05
          },
          "xaxis": {
           "automargin": true,
           "gridcolor": "white",
           "linecolor": "white",
           "ticks": "",
           "title": {
            "standoff": 15
           },
           "zerolinecolor": "white",
           "zerolinewidth": 2
          },
          "yaxis": {
           "automargin": true,
           "gridcolor": "white",
           "linecolor": "white",
           "ticks": "",
           "title": {
            "standoff": 15
           },
           "zerolinecolor": "white",
           "zerolinewidth": 2
          }
         }
        },
        "title": {
         "text": "Preference for Barbie over Oppenheimer by US States",
         "x": 0.5,
         "y": 0.95
        }
       }
      },
      "text/html": [
       "<div>                            <div id=\"3193f07b-0e5a-46a9-bf2d-c33a3b703760\" class=\"plotly-graph-div\" style=\"height:525px; width:100%;\"></div>            <script type=\"text/javascript\">                require([\"plotly\"], function(Plotly) {                    window.PLOTLYENV=window.PLOTLYENV || {};                                    if (document.getElementById(\"3193f07b-0e5a-46a9-bf2d-c33a3b703760\")) {                    Plotly.newPlot(                        \"3193f07b-0e5a-46a9-bf2d-c33a3b703760\",                        [{\"coloraxis\":\"coloraxis\",\"geo\":\"geo\",\"hovertemplate\":\"<b>%{hovertext}</b><br><br>state_code=%{location}<br>diff=%{z}<extra></extra>\",\"hovertext\":[\"AL\",\"AK\",\"AZ\",\"AR\",\"CA\",\"CO\",\"CT\",\"DE\",\"DC\",\"FL\",\"GA\",\"HI\",\"ID\",\"IL\",\"IN\",\"IA\",\"KS\",\"KY\",\"LA\",\"ME\",\"MD\",\"MA\",\"MI\",\"MN\",\"MS\",\"MO\",\"MT\",\"NE\",\"NV\",\"NH\",\"NJ\",\"NM\",\"NY\",\"NC\",\"ND\",\"OH\",\"OK\",\"OR\",\"PA\",\"RI\",\"SC\",\"SD\",\"TN\",\"TX\",\"UT\",\"VT\",\"VA\",\"WA\",\"WV\",\"WI\",\"WY\"],\"locationmode\":\"USA-states\",\"locations\":[\"AL\",\"AK\",\"AZ\",\"AR\",\"CA\",\"CO\",\"CT\",\"DE\",\"DC\",\"FL\",\"GA\",\"HI\",\"ID\",\"IL\",\"IN\",\"IA\",\"KS\",\"KY\",\"LA\",\"ME\",\"MD\",\"MA\",\"MI\",\"MN\",\"MS\",\"MO\",\"MT\",\"NE\",\"NV\",\"NH\",\"NJ\",\"NM\",\"NY\",\"NC\",\"ND\",\"OH\",\"OK\",\"OR\",\"PA\",\"RI\",\"SC\",\"SD\",\"TN\",\"TX\",\"UT\",\"VT\",\"VA\",\"WA\",\"WV\",\"WI\",\"WY\"],\"name\":\"\",\"z\":[42,38,44,42,38,38,38,38,26,44,46,42,42,38,44,40,40,44,44,32,46,34,42,44,50,46,38,38,42,38,40,28,30,40,40,44,40,44,42,40,46,44,46,44,42,44,38,38,54,46,34],\"type\":\"choropleth\"},{\"locationmode\":\"USA-states\",\"locations\":[\"AL\",\"AK\",\"AZ\",\"AR\",\"CA\",\"CO\",\"CT\",\"DE\",\"DC\",\"FL\",\"GA\",\"HI\",\"ID\",\"IL\",\"IN\",\"IA\",\"KS\",\"KY\",\"LA\",\"ME\",\"MD\",\"MA\",\"MI\",\"MN\",\"MS\",\"MO\",\"MT\",\"NE\",\"NV\",\"NH\",\"NJ\",\"NM\",\"NY\",\"NC\",\"ND\",\"OH\",\"OK\",\"OR\",\"PA\",\"RI\",\"SC\",\"SD\",\"TN\",\"TX\",\"UT\",\"VT\",\"VA\",\"WA\",\"WV\",\"WI\",\"WY\"],\"mode\":\"text\",\"text\":[\"AL\",\"AK\",\"AZ\",\"AR\",\"CA\",\"CO\",\"CT\",\"DE\",\"DC\",\"FL\",\"GA\",\"HI\",\"ID\",\"IL\",\"IN\",\"IA\",\"KS\",\"KY\",\"LA\",\"ME\",\"MD\",\"MA\",\"MI\",\"MN\",\"MS\",\"MO\",\"MT\",\"NE\",\"NV\",\"NH\",\"NJ\",\"NM\",\"NY\",\"NC\",\"ND\",\"OH\",\"OK\",\"OR\",\"PA\",\"RI\",\"SC\",\"SD\",\"TN\",\"TX\",\"UT\",\"VT\",\"VA\",\"WA\",\"WV\",\"WI\",\"WY\"],\"type\":\"scattergeo\"}],                        {\"template\":{\"data\":{\"histogram2dcontour\":[{\"type\":\"histogram2dcontour\",\"colorbar\":{\"outlinewidth\":0,\"ticks\":\"\"},\"colorscale\":[[0.0,\"#0d0887\"],[0.1111111111111111,\"#46039f\"],[0.2222222222222222,\"#7201a8\"],[0.3333333333333333,\"#9c179e\"],[0.4444444444444444,\"#bd3786\"],[0.5555555555555556,\"#d8576b\"],[0.6666666666666666,\"#ed7953\"],[0.7777777777777778,\"#fb9f3a\"],[0.8888888888888888,\"#fdca26\"],[1.0,\"#f0f921\"]]}],\"choropleth\":[{\"type\":\"choropleth\",\"colorbar\":{\"outlinewidth\":0,\"ticks\":\"\"}}],\"histogram2d\":[{\"type\":\"histogram2d\",\"colorbar\":{\"outlinewidth\":0,\"ticks\":\"\"},\"colorscale\":[[0.0,\"#0d0887\"],[0.1111111111111111,\"#46039f\"],[0.2222222222222222,\"#7201a8\"],[0.3333333333333333,\"#9c179e\"],[0.4444444444444444,\"#bd3786\"],[0.5555555555555556,\"#d8576b\"],[0.6666666666666666,\"#ed7953\"],[0.7777777777777778,\"#fb9f3a\"],[0.8888888888888888,\"#fdca26\"],[1.0,\"#f0f921\"]]}],\"heatmap\":[{\"type\":\"heatmap\",\"colorbar\":{\"outlinewidth\":0,\"ticks\":\"\"},\"colorscale\":[[0.0,\"#0d0887\"],[0.1111111111111111,\"#46039f\"],[0.2222222222222222,\"#7201a8\"],[0.3333333333333333,\"#9c179e\"],[0.4444444444444444,\"#bd3786\"],[0.5555555555555556,\"#d8576b\"],[0.6666666666666666,\"#ed7953\"],[0.7777777777777778,\"#fb9f3a\"],[0.8888888888888888,\"#fdca26\"],[1.0,\"#f0f921\"]]}],\"heatmapgl\":[{\"type\":\"heatmapgl\",\"colorbar\":{\"outlinewidth\":0,\"ticks\":\"\"},\"colorscale\":[[0.0,\"#0d0887\"],[0.1111111111111111,\"#46039f\"],[0.2222222222222222,\"#7201a8\"],[0.3333333333333333,\"#9c179e\"],[0.4444444444444444,\"#bd3786\"],[0.5555555555555556,\"#d8576b\"],[0.6666666666666666,\"#ed7953\"],[0.7777777777777778,\"#fb9f3a\"],[0.8888888888888888,\"#fdca26\"],[1.0,\"#f0f921\"]]}],\"contourcarpet\":[{\"type\":\"contourcarpet\",\"colorbar\":{\"outlinewidth\":0,\"ticks\":\"\"}}],\"contour\":[{\"type\":\"contour\",\"colorbar\":{\"outlinewidth\":0,\"ticks\":\"\"},\"colorscale\":[[0.0,\"#0d0887\"],[0.1111111111111111,\"#46039f\"],[0.2222222222222222,\"#7201a8\"],[0.3333333333333333,\"#9c179e\"],[0.4444444444444444,\"#bd3786\"],[0.5555555555555556,\"#d8576b\"],[0.6666666666666666,\"#ed7953\"],[0.7777777777777778,\"#fb9f3a\"],[0.8888888888888888,\"#fdca26\"],[1.0,\"#f0f921\"]]}],\"surface\":[{\"type\":\"surface\",\"colorbar\":{\"outlinewidth\":0,\"ticks\":\"\"},\"colorscale\":[[0.0,\"#0d0887\"],[0.1111111111111111,\"#46039f\"],[0.2222222222222222,\"#7201a8\"],[0.3333333333333333,\"#9c179e\"],[0.4444444444444444,\"#bd3786\"],[0.5555555555555556,\"#d8576b\"],[0.6666666666666666,\"#ed7953\"],[0.7777777777777778,\"#fb9f3a\"],[0.8888888888888888,\"#fdca26\"],[1.0,\"#f0f921\"]]}],\"mesh3d\":[{\"type\":\"mesh3d\",\"colorbar\":{\"outlinewidth\":0,\"ticks\":\"\"}}],\"scatter\":[{\"fillpattern\":{\"fillmode\":\"overlay\",\"size\":10,\"solidity\":0.2},\"type\":\"scatter\"}],\"parcoords\":[{\"type\":\"parcoords\",\"line\":{\"colorbar\":{\"outlinewidth\":0,\"ticks\":\"\"}}}],\"scatterpolargl\":[{\"type\":\"scatterpolargl\",\"marker\":{\"colorbar\":{\"outlinewidth\":0,\"ticks\":\"\"}}}],\"bar\":[{\"error_x\":{\"color\":\"#2a3f5f\"},\"error_y\":{\"color\":\"#2a3f5f\"},\"marker\":{\"line\":{\"color\":\"#E5ECF6\",\"width\":0.5},\"pattern\":{\"fillmode\":\"overlay\",\"size\":10,\"solidity\":0.2}},\"type\":\"bar\"}],\"scattergeo\":[{\"type\":\"scattergeo\",\"marker\":{\"colorbar\":{\"outlinewidth\":0,\"ticks\":\"\"}}}],\"scatterpolar\":[{\"type\":\"scatterpolar\",\"marker\":{\"colorbar\":{\"outlinewidth\":0,\"ticks\":\"\"}}}],\"histogram\":[{\"marker\":{\"pattern\":{\"fillmode\":\"overlay\",\"size\":10,\"solidity\":0.2}},\"type\":\"histogram\"}],\"scattergl\":[{\"type\":\"scattergl\",\"marker\":{\"colorbar\":{\"outlinewidth\":0,\"ticks\":\"\"}}}],\"scatter3d\":[{\"type\":\"scatter3d\",\"line\":{\"colorbar\":{\"outlinewidth\":0,\"ticks\":\"\"}},\"marker\":{\"colorbar\":{\"outlinewidth\":0,\"ticks\":\"\"}}}],\"scattermapbox\":[{\"type\":\"scattermapbox\",\"marker\":{\"colorbar\":{\"outlinewidth\":0,\"ticks\":\"\"}}}],\"scatterternary\":[{\"type\":\"scatterternary\",\"marker\":{\"colorbar\":{\"outlinewidth\":0,\"ticks\":\"\"}}}],\"scattercarpet\":[{\"type\":\"scattercarpet\",\"marker\":{\"colorbar\":{\"outlinewidth\":0,\"ticks\":\"\"}}}],\"carpet\":[{\"aaxis\":{\"endlinecolor\":\"#2a3f5f\",\"gridcolor\":\"white\",\"linecolor\":\"white\",\"minorgridcolor\":\"white\",\"startlinecolor\":\"#2a3f5f\"},\"baxis\":{\"endlinecolor\":\"#2a3f5f\",\"gridcolor\":\"white\",\"linecolor\":\"white\",\"minorgridcolor\":\"white\",\"startlinecolor\":\"#2a3f5f\"},\"type\":\"carpet\"}],\"table\":[{\"cells\":{\"fill\":{\"color\":\"#EBF0F8\"},\"line\":{\"color\":\"white\"}},\"header\":{\"fill\":{\"color\":\"#C8D4E3\"},\"line\":{\"color\":\"white\"}},\"type\":\"table\"}],\"barpolar\":[{\"marker\":{\"line\":{\"color\":\"#E5ECF6\",\"width\":0.5},\"pattern\":{\"fillmode\":\"overlay\",\"size\":10,\"solidity\":0.2}},\"type\":\"barpolar\"}],\"pie\":[{\"automargin\":true,\"type\":\"pie\"}]},\"layout\":{\"autotypenumbers\":\"strict\",\"colorway\":[\"#636efa\",\"#EF553B\",\"#00cc96\",\"#ab63fa\",\"#FFA15A\",\"#19d3f3\",\"#FF6692\",\"#B6E880\",\"#FF97FF\",\"#FECB52\"],\"font\":{\"color\":\"#2a3f5f\"},\"hovermode\":\"closest\",\"hoverlabel\":{\"align\":\"left\"},\"paper_bgcolor\":\"white\",\"plot_bgcolor\":\"#E5ECF6\",\"polar\":{\"bgcolor\":\"#E5ECF6\",\"angularaxis\":{\"gridcolor\":\"white\",\"linecolor\":\"white\",\"ticks\":\"\"},\"radialaxis\":{\"gridcolor\":\"white\",\"linecolor\":\"white\",\"ticks\":\"\"}},\"ternary\":{\"bgcolor\":\"#E5ECF6\",\"aaxis\":{\"gridcolor\":\"white\",\"linecolor\":\"white\",\"ticks\":\"\"},\"baxis\":{\"gridcolor\":\"white\",\"linecolor\":\"white\",\"ticks\":\"\"},\"caxis\":{\"gridcolor\":\"white\",\"linecolor\":\"white\",\"ticks\":\"\"}},\"coloraxis\":{\"colorbar\":{\"outlinewidth\":0,\"ticks\":\"\"}},\"colorscale\":{\"sequential\":[[0.0,\"#0d0887\"],[0.1111111111111111,\"#46039f\"],[0.2222222222222222,\"#7201a8\"],[0.3333333333333333,\"#9c179e\"],[0.4444444444444444,\"#bd3786\"],[0.5555555555555556,\"#d8576b\"],[0.6666666666666666,\"#ed7953\"],[0.7777777777777778,\"#fb9f3a\"],[0.8888888888888888,\"#fdca26\"],[1.0,\"#f0f921\"]],\"sequentialminus\":[[0.0,\"#0d0887\"],[0.1111111111111111,\"#46039f\"],[0.2222222222222222,\"#7201a8\"],[0.3333333333333333,\"#9c179e\"],[0.4444444444444444,\"#bd3786\"],[0.5555555555555556,\"#d8576b\"],[0.6666666666666666,\"#ed7953\"],[0.7777777777777778,\"#fb9f3a\"],[0.8888888888888888,\"#fdca26\"],[1.0,\"#f0f921\"]],\"diverging\":[[0,\"#8e0152\"],[0.1,\"#c51b7d\"],[0.2,\"#de77ae\"],[0.3,\"#f1b6da\"],[0.4,\"#fde0ef\"],[0.5,\"#f7f7f7\"],[0.6,\"#e6f5d0\"],[0.7,\"#b8e186\"],[0.8,\"#7fbc41\"],[0.9,\"#4d9221\"],[1,\"#276419\"]]},\"xaxis\":{\"gridcolor\":\"white\",\"linecolor\":\"white\",\"ticks\":\"\",\"title\":{\"standoff\":15},\"zerolinecolor\":\"white\",\"automargin\":true,\"zerolinewidth\":2},\"yaxis\":{\"gridcolor\":\"white\",\"linecolor\":\"white\",\"ticks\":\"\",\"title\":{\"standoff\":15},\"zerolinecolor\":\"white\",\"automargin\":true,\"zerolinewidth\":2},\"scene\":{\"xaxis\":{\"backgroundcolor\":\"#E5ECF6\",\"gridcolor\":\"white\",\"linecolor\":\"white\",\"showbackground\":true,\"ticks\":\"\",\"zerolinecolor\":\"white\",\"gridwidth\":2},\"yaxis\":{\"backgroundcolor\":\"#E5ECF6\",\"gridcolor\":\"white\",\"linecolor\":\"white\",\"showbackground\":true,\"ticks\":\"\",\"zerolinecolor\":\"white\",\"gridwidth\":2},\"zaxis\":{\"backgroundcolor\":\"#E5ECF6\",\"gridcolor\":\"white\",\"linecolor\":\"white\",\"showbackground\":true,\"ticks\":\"\",\"zerolinecolor\":\"white\",\"gridwidth\":2}},\"shapedefaults\":{\"line\":{\"color\":\"#2a3f5f\"}},\"annotationdefaults\":{\"arrowcolor\":\"#2a3f5f\",\"arrowhead\":0,\"arrowwidth\":1},\"geo\":{\"bgcolor\":\"white\",\"landcolor\":\"#E5ECF6\",\"subunitcolor\":\"white\",\"showland\":true,\"showlakes\":true,\"lakecolor\":\"white\"},\"title\":{\"x\":0.05},\"mapbox\":{\"style\":\"light\"}}},\"geo\":{\"domain\":{\"x\":[0.0,1.0],\"y\":[0.0,1.0]},\"center\":{},\"scope\":\"usa\"},\"coloraxis\":{\"colorbar\":{\"title\":{\"text\":\"diff\"}},\"colorscale\":[[0.0,\"rgb(94,79,162)\"],[0.1,\"rgb(50,136,189)\"],[0.2,\"rgb(102,194,165)\"],[0.3,\"rgb(171,221,164)\"],[0.4,\"rgb(230,245,152)\"],[0.5,\"rgb(255,255,191)\"],[0.6,\"rgb(254,224,139)\"],[0.7,\"rgb(253,174,97)\"],[0.8,\"rgb(244,109,67)\"],[0.9,\"rgb(213,62,79)\"],[1.0,\"rgb(158,1,66)\"]]},\"legend\":{\"tracegroupgap\":0},\"margin\":{\"t\":10,\"b\":0,\"r\":0,\"l\":0},\"title\":{\"x\":0.5,\"y\":0.95,\"text\":\"Preference for Barbie over Oppenheimer by US States\"},\"autosize\":true},                        {\"responsive\": true}                    ).then(function(){\n",
       "                            \n",
       "var gd = document.getElementById('3193f07b-0e5a-46a9-bf2d-c33a3b703760');\n",
       "var x = new MutationObserver(function (mutations, observer) {{\n",
       "        var display = window.getComputedStyle(gd).display;\n",
       "        if (!display || display === 'none') {{\n",
       "            console.log([gd, 'removed!']);\n",
       "            Plotly.purge(gd);\n",
       "            observer.disconnect();\n",
       "        }}\n",
       "}});\n",
       "\n",
       "// Listen for the removal of the full notebook cells\n",
       "var notebookContainer = gd.closest('#notebook-container');\n",
       "if (notebookContainer) {{\n",
       "    x.observe(notebookContainer, {childList: true});\n",
       "}}\n",
       "\n",
       "// Listen for the clearing of the current output cell\n",
       "var outputEl = gd.closest('.output');\n",
       "if (outputEl) {{\n",
       "    x.observe(outputEl, {childList: true});\n",
       "}}\n",
       "\n",
       "                        })                };                });            </script>        </div>"
      ]
     },
     "metadata": {},
     "output_type": "display_data"
    }
   ],
   "source": [
    "fig = px.choropleth(geo_interest,\n",
    "                    locations='state_code',\n",
    "                    color='diff',\n",
    "                    color_continuous_scale='spectral_r',\n",
    "                    hover_name='state_code',\n",
    "                    locationmode='USA-states',\n",
    "                    scope='usa')\n",
    "fig.add_scattergeo(\n",
    "    locations=geo_interest['state_code'],\n",
    "    locationmode=\"USA-states\", \n",
    "    text=geo_interest['state_code'],\n",
    "    mode='text',\n",
    ")\n",
    "fig.update_layout(\n",
    "    title_x = 0.5,\n",
    "    title_y = 0.95,\n",
    "    title_text='Preference for Barbie over Oppenheimer by US States',\n",
    "    margin=dict(t=10, b=0, r=0, l=0),  # Set b (bottom) margin to 0\n",
    "    autosize=True,\n",
    "    # width=1300,\n",
    "    # height=700,\n",
    ")\n",
    "\n",
    "fig.show()\n",
    "fig.write_image('barbenheimer_interest.pdf')"
   ]
  },
  {
   "cell_type": "code",
   "execution_count": null,
   "id": "19aa8118",
   "metadata": {},
   "outputs": [],
   "source": []
  },
  {
   "cell_type": "code",
   "execution_count": null,
   "id": "e963b77c",
   "metadata": {},
   "outputs": [],
   "source": []
  }
 ],
 "metadata": {
  "kernelspec": {
   "display_name": "Python 3 (ipykernel)",
   "language": "python",
   "name": "python3"
  },
  "language_info": {
   "codemirror_mode": {
    "name": "ipython",
    "version": 3
   },
   "file_extension": ".py",
   "mimetype": "text/x-python",
   "name": "python",
   "nbconvert_exporter": "python",
   "pygments_lexer": "ipython3",
   "version": "3.11.5"
  }
 },
 "nbformat": 4,
 "nbformat_minor": 5
}
