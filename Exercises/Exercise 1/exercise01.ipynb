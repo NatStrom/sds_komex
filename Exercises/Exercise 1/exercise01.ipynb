{
 "cells": [
  {
   "cell_type": "markdown",
   "id": "a72e5cb4",
   "metadata": {},
   "source": [
    "<div style=\"text-align: center;\" >\n",
    "<h1 style=\"margin-top: 0.2em; margin-bottom: 0.1em;\">Assignment 1</h1>\n"
   ]
  },
  {
   "cell_type": "markdown",
   "id": "252b0fe0",
   "metadata": {},
   "source": [
    "## Correlation of Future Orientation Index and Gross Domestic Product"
   ]
  },
  {
   "cell_type": "markdown",
   "id": "a82d402b",
   "metadata": {},
   "source": [
    "### Tasks\n",
    "\n",
    "In this exercise, we try to reproduce the findings of the article “Quantifying the Advantage of Looking Forward” http://www.nature.com/articles/srep00350.\n",
    "\n",
    "According to the study, the GDP per capita of countries is positively correlated to how much their population searches in Google for the next year, relative to how much they search for the previous year.\n",
    "\n",
    "This ratio is called the Future Orientation Index (FOI). So for example for the year 2017 the FOI can be calculated as: FOI = number of searches for the term “2018” / number of searches for the term “2016”.\n",
    "\n",
    "You will do the following tasks:\n",
    "1. Aquire World Bank Data\n",
    "2. Calculate the Future Orientation Index in Google Trends\n",
    "3. Test the correlation between GDP and FOI"
   ]
  },
  {
   "cell_type": "markdown",
   "id": "59e59b4b",
   "metadata": {},
   "source": [
    "### Install requirements\n",
    "\n",
    "The following cell contains all the necessary dependencies needed for this task. If you run the cell everything will be installed.  \n",
    "* [`wbgapi`](https://github.com/tgherzog/wbgapi) is a Python package which provides modern, pythonic access to the World Bank's data API. [Here](https://github.com/tgherzog/wbgapi) is the documentation of `wbgapi`.\n",
    "* [`pandas`](https://pandas.pydata.org/docs/index.html) is a Python package for creating and working with tabular data. [Here](https://pandas.pydata.org/docs/reference/index.html) is the documentation of `pandas`.\n",
    "* [`matplotlib`](https://matplotlib.org/) is a Python package for creating plots. [Here](https://matplotlib.org/stable/api/index.html) is the documentation of `matplotlib`.\n",
    "* [`scipy`](https://scipy.org/) is a Python package with different algorithms for scientific computing. [Here](https://docs.scipy.org/doc/scipy/reference/index.html#scipy-api) is the documentation of `scipy`."
   ]
  },
  {
   "cell_type": "code",
   "execution_count": 1,
   "id": "85b72588",
   "metadata": {},
   "outputs": [
    {
     "name": "stdout",
     "output_type": "stream",
     "text": [
      "Requirement already satisfied: wbgapi in c:\\users\\anasa\\anaconda3\\lib\\site-packages (1.0.12)\n",
      "Requirement already satisfied: requests in c:\\users\\anasa\\anaconda3\\lib\\site-packages (from wbgapi) (2.31.0)\n",
      "Requirement already satisfied: PyYAML in c:\\users\\anasa\\anaconda3\\lib\\site-packages (from wbgapi) (6.0)\n",
      "Requirement already satisfied: tabulate in c:\\users\\anasa\\anaconda3\\lib\\site-packages (from wbgapi) (0.8.10)\n",
      "Requirement already satisfied: charset-normalizer<4,>=2 in c:\\users\\anasa\\anaconda3\\lib\\site-packages (from requests->wbgapi) (2.0.4)\n",
      "Requirement already satisfied: idna<4,>=2.5 in c:\\users\\anasa\\anaconda3\\lib\\site-packages (from requests->wbgapi) (3.4)\n",
      "Requirement already satisfied: urllib3<3,>=1.21.1 in c:\\users\\anasa\\anaconda3\\lib\\site-packages (from requests->wbgapi) (1.26.16)\n",
      "Requirement already satisfied: certifi>=2017.4.17 in c:\\users\\anasa\\anaconda3\\lib\\site-packages (from requests->wbgapi) (2023.7.22)\n",
      "Requirement already satisfied: pandas in c:\\users\\anasa\\anaconda3\\lib\\site-packages (1.5.3)\n",
      "Requirement already satisfied: python-dateutil>=2.8.1 in c:\\users\\anasa\\anaconda3\\lib\\site-packages (from pandas) (2.8.2)\n",
      "Requirement already satisfied: pytz>=2020.1 in c:\\users\\anasa\\anaconda3\\lib\\site-packages (from pandas) (2022.7)\n",
      "Requirement already satisfied: numpy>=1.21.0 in c:\\users\\anasa\\anaconda3\\lib\\site-packages (from pandas) (1.24.3)\n",
      "Requirement already satisfied: six>=1.5 in c:\\users\\anasa\\anaconda3\\lib\\site-packages (from python-dateutil>=2.8.1->pandas) (1.16.0)\n",
      "Requirement already satisfied: matplotlib in c:\\users\\anasa\\anaconda3\\lib\\site-packages (3.7.1)\n",
      "Requirement already satisfied: contourpy>=1.0.1 in c:\\users\\anasa\\anaconda3\\lib\\site-packages (from matplotlib) (1.0.5)\n",
      "Requirement already satisfied: cycler>=0.10 in c:\\users\\anasa\\anaconda3\\lib\\site-packages (from matplotlib) (0.11.0)\n",
      "Requirement already satisfied: fonttools>=4.22.0 in c:\\users\\anasa\\anaconda3\\lib\\site-packages (from matplotlib) (4.25.0)\n",
      "Requirement already satisfied: kiwisolver>=1.0.1 in c:\\users\\anasa\\anaconda3\\lib\\site-packages (from matplotlib) (1.4.4)\n",
      "Requirement already satisfied: numpy>=1.20 in c:\\users\\anasa\\anaconda3\\lib\\site-packages (from matplotlib) (1.24.3)\n",
      "Requirement already satisfied: packaging>=20.0 in c:\\users\\anasa\\anaconda3\\lib\\site-packages (from matplotlib) (23.0)\n",
      "Requirement already satisfied: pillow>=6.2.0 in c:\\users\\anasa\\anaconda3\\lib\\site-packages (from matplotlib) (9.4.0)\n",
      "Requirement already satisfied: pyparsing>=2.3.1 in c:\\users\\anasa\\anaconda3\\lib\\site-packages (from matplotlib) (3.0.9)\n",
      "Requirement already satisfied: python-dateutil>=2.7 in c:\\users\\anasa\\anaconda3\\lib\\site-packages (from matplotlib) (2.8.2)\n",
      "Requirement already satisfied: six>=1.5 in c:\\users\\anasa\\anaconda3\\lib\\site-packages (from python-dateutil>=2.7->matplotlib) (1.16.0)\n",
      "Requirement already satisfied: scipy in c:\\users\\anasa\\anaconda3\\lib\\site-packages (1.10.1)\n",
      "Requirement already satisfied: numpy<1.27.0,>=1.19.5 in c:\\users\\anasa\\anaconda3\\lib\\site-packages (from scipy) (1.24.3)\n"
     ]
    }
   ],
   "source": [
    "! pip install wbgapi\n",
    "! pip install pandas\n",
    "! pip install matplotlib\n",
    "! pip install scipy"
   ]
  },
  {
   "cell_type": "markdown",
   "id": "3af87a3b",
   "metadata": {},
   "source": [
    "### Import requirements\n",
    "The cell below imports all necessary dependancies. Make sure they are installed (see cell above)."
   ]
  },
  {
   "cell_type": "code",
   "execution_count": null,
   "id": "276c7be6",
   "metadata": {},
   "outputs": [],
   "source": [
    "import wbgapi as wb\n",
    "import pandas as pd\n",
    "import matplotlib.pyplot as plt\n",
    "from scipy import stats"
   ]
  },
  {
   "cell_type": "markdown",
   "id": "a4b6e3f8",
   "metadata": {},
   "source": [
    "### Exercise 1: World Bank Data \n",
    "#### 1.1 Download WDI data\n",
    "\n",
    "From the WDI we need three indicators:\n",
    "* Gross Domestic Product (GDP) per capita corrected by the Purchase Power Parity (PPP in current or 2005 international $, `\"NY.GDP.PCAP.PP.KD\"`)\n",
    "* The amount of Internet users (per 100 people, `\"IT.NET.USER.ZS\"`\n",
    "* The total population (described as as \"Population, Total\", `\"SP.POP.TOTL\"`)\n",
    "\n",
    "In the following code chunk, download all data (including extras) for all countries in year 2014 and save it as a pandas data frame. See [here](https://github.com/tgherzog/wbgapi#accessing-data) how to use the `data` subpackage of `wbgapi`.\n",
    "\n",
    "Hint: To remove aggregates (economic regions defined by the World Bank) and include only countries, use `skipAggs=True`."
   ]
  },
  {
   "cell_type": "code",
   "execution_count": 2,
   "id": "75c9b324",
   "metadata": {},
   "outputs": [],
   "source": []
  },
  {
   "cell_type": "markdown",
   "id": "4e35e271",
   "metadata": {},
   "source": [
    "Now drop any row that has `NaN` for this you can use `pandas` [`dropna`](https://pandas.pydata.org/docs/reference/api/pandas.DataFrame.dropna.html) method."
   ]
  },
  {
   "cell_type": "code",
   "execution_count": 4,
   "id": "77b5278e",
   "metadata": {},
   "outputs": [
    {
     "data": {
      "text/html": [
       "<div>\n",
       "<style scoped>\n",
       "    .dataframe tbody tr th:only-of-type {\n",
       "        vertical-align: middle;\n",
       "    }\n",
       "\n",
       "    .dataframe tbody tr th {\n",
       "        vertical-align: top;\n",
       "    }\n",
       "\n",
       "    .dataframe thead th {\n",
       "        text-align: right;\n",
       "    }\n",
       "</style>\n",
       "<table border=\"1\" class=\"dataframe\">\n",
       "  <thead>\n",
       "    <tr style=\"text-align: right;\">\n",
       "      <th></th>\n",
       "      <th>Country</th>\n",
       "      <th>IT.NET.USER.ZS</th>\n",
       "      <th>NY.GDP.PCAP.PP.KD</th>\n",
       "      <th>SP.POP.TOTL</th>\n",
       "    </tr>\n",
       "    <tr>\n",
       "      <th>economy</th>\n",
       "      <th></th>\n",
       "      <th></th>\n",
       "      <th></th>\n",
       "      <th></th>\n",
       "    </tr>\n",
       "  </thead>\n",
       "  <tbody>\n",
       "    <tr>\n",
       "      <th>ZWE</th>\n",
       "      <td>Zimbabwe</td>\n",
       "      <td>16.36474</td>\n",
       "      <td>2316.954536</td>\n",
       "      <td>13855753.0</td>\n",
       "    </tr>\n",
       "    <tr>\n",
       "      <th>ZMB</th>\n",
       "      <td>Zambia</td>\n",
       "      <td>6.50000</td>\n",
       "      <td>3375.941270</td>\n",
       "      <td>15737793.0</td>\n",
       "    </tr>\n",
       "    <tr>\n",
       "      <th>PSE</th>\n",
       "      <td>West Bank and Gaza</td>\n",
       "      <td>53.67000</td>\n",
       "      <td>5967.073437</td>\n",
       "      <td>4173398.0</td>\n",
       "    </tr>\n",
       "    <tr>\n",
       "      <th>VNM</th>\n",
       "      <td>Viet Nam</td>\n",
       "      <td>41.00000</td>\n",
       "      <td>7641.909428</td>\n",
       "      <td>91235504.0</td>\n",
       "    </tr>\n",
       "    <tr>\n",
       "      <th>VUT</th>\n",
       "      <td>Vanuatu</td>\n",
       "      <td>18.80000</td>\n",
       "      <td>2917.677875</td>\n",
       "      <td>269927.0</td>\n",
       "    </tr>\n",
       "    <tr>\n",
       "      <th>...</th>\n",
       "      <td>...</td>\n",
       "      <td>...</td>\n",
       "      <td>...</td>\n",
       "      <td>...</td>\n",
       "    </tr>\n",
       "    <tr>\n",
       "      <th>ATG</th>\n",
       "      <td>Antigua and Barbuda</td>\n",
       "      <td>67.78000</td>\n",
       "      <td>20451.218969</td>\n",
       "      <td>89236.0</td>\n",
       "    </tr>\n",
       "    <tr>\n",
       "      <th>AGO</th>\n",
       "      <td>Angola</td>\n",
       "      <td>21.40000</td>\n",
       "      <td>8183.164577</td>\n",
       "      <td>27128337.0</td>\n",
       "    </tr>\n",
       "    <tr>\n",
       "      <th>DZA</th>\n",
       "      <td>Algeria</td>\n",
       "      <td>29.50000</td>\n",
       "      <td>11561.259795</td>\n",
       "      <td>38760168.0</td>\n",
       "    </tr>\n",
       "    <tr>\n",
       "      <th>ALB</th>\n",
       "      <td>Albania</td>\n",
       "      <td>54.30000</td>\n",
       "      <td>11586.873945</td>\n",
       "      <td>2889104.0</td>\n",
       "    </tr>\n",
       "    <tr>\n",
       "      <th>AFG</th>\n",
       "      <td>Afghanistan</td>\n",
       "      <td>7.00000</td>\n",
       "      <td>2144.449634</td>\n",
       "      <td>32716210.0</td>\n",
       "    </tr>\n",
       "  </tbody>\n",
       "</table>\n",
       "<p>186 rows × 4 columns</p>\n",
       "</div>"
      ],
      "text/plain": [
       "                     Country  IT.NET.USER.ZS  NY.GDP.PCAP.PP.KD  SP.POP.TOTL\n",
       "economy                                                                     \n",
       "ZWE                 Zimbabwe        16.36474        2316.954536   13855753.0\n",
       "ZMB                   Zambia         6.50000        3375.941270   15737793.0\n",
       "PSE       West Bank and Gaza        53.67000        5967.073437    4173398.0\n",
       "VNM                 Viet Nam        41.00000        7641.909428   91235504.0\n",
       "VUT                  Vanuatu        18.80000        2917.677875     269927.0\n",
       "...                      ...             ...                ...          ...\n",
       "ATG      Antigua and Barbuda        67.78000       20451.218969      89236.0\n",
       "AGO                   Angola        21.40000        8183.164577   27128337.0\n",
       "DZA                  Algeria        29.50000       11561.259795   38760168.0\n",
       "ALB                  Albania        54.30000       11586.873945    2889104.0\n",
       "AFG              Afghanistan         7.00000        2144.449634   32716210.0\n",
       "\n",
       "[186 rows x 4 columns]"
      ]
     },
     "execution_count": 4,
     "metadata": {},
     "output_type": "execute_result"
    }
   ],
   "source": []
  },
  {
   "cell_type": "markdown",
   "id": "4854dd95",
   "metadata": {},
   "source": [
    "Next only keep rows where there are at least 5 Million internet users. Keep in Mind that the Internet Users are per 100 people, so don't forget to take the population into account.\n",
    "\n",
    "For example in the dataset Austria has 80.995825 internet users per 100 people, while 8546356 people living in Austria. This means Austria has 6922191.55 internet users in total. The calculation for that is as follows:\n",
    "<br>\n",
    "\n",
    "$$\n",
    "\\begin{align}\n",
    "internet\\_users = population \\cdot \\frac{internet\\_user\\_per\\_100}{100}\n",
    "\\end{align}\n",
    "$$\n"
   ]
  },
  {
   "cell_type": "code",
   "execution_count": 5,
   "id": "6ffe01e2",
   "metadata": {},
   "outputs": [],
   "source": []
  },
  {
   "cell_type": "markdown",
   "id": "d4f8562a",
   "metadata": {},
   "source": [
    "### Exercise 2: The Future Orientation Index in Google Trends \n",
    "#### 2.1 Download data from Google Trends\n",
    "\n",
    "You can download the data from Google Trends following these steps:\n",
    "\n",
    "1) Log out from your google account or set its language to English\n",
    "\n",
    "2) Go to trends.google.com and search for 2013 \n",
    "\n",
    "3) Add 2015 as a search term\n",
    "\n",
    "4) Select custom time rage: full year: 2014\n",
    "\n",
    "5) Set the region to “Worldwide”. You can also try with this link (it links to the google trends page with all settings from above applied): https://trends.google.com/trends/explore?date=2014-01-01%202014-12-31&q=2013,2015\n",
    "\n",
    "6) Go to the map at “Compared breakdown by region” and tick on “include low search volume regions”\n",
    "\n",
    "7) On the top right menu click the download button to get a geoMap.csv file\n",
    "\n",
    "Load the .csv file in a pandas data frame. Notice in the file the first 3 Lines are actually only information (while the third is the header). You can skip these lines by using `skiprows=3` in `pd.read_csv`. Set the headers to `\"Country\", \"G2013\", \"G2015\"`, this can be done by the keyword argument `names` in `pd.read_csv`.\n",
    "\n",
    "Now remove again all rows containing `NaN`.\n",
    "\n",
    "All the percentage data is saved as a string containing the `%` symbol. You can remove this with `pandas` [`str.replace`](https://pandas.pydata.org/docs/reference/api/pandas.Series.str.replace.html) method and save them as integer with `pandas` [`astype`](https://pandas.pydata.org/docs/reference/api/pandas.DataFrame.astype.html) method. Do this for column `G2013` and `G2015`.\n"
   ]
  },
  {
   "cell_type": "code",
   "execution_count": 8,
   "id": "21d49e0b",
   "metadata": {},
   "outputs": [],
   "source": []
  },
  {
   "cell_type": "markdown",
   "id": "2afa666c",
   "metadata": {},
   "source": [
    "#### 2.2 Calculate the Future Orientation Index\n",
    "\n",
    "In the following code chunk, make a new column in the Google Trends dataframe with the Future Orientation Index, which is the ratio between the search volume for 2015 and 2013 in 2014 for each country"
   ]
  },
  {
   "cell_type": "code",
   "execution_count": null,
   "id": "5441e4cb",
   "metadata": {},
   "outputs": [],
   "source": []
  },
  {
   "cell_type": "markdown",
   "id": "f3322c9c",
   "metadata": {},
   "source": [
    "#### 2.3 Merge with World Bank data\n",
    "\n",
    "Merge the WDI and google trends data frames, using the name of the country. For this you can use `pandas` [`merge`](https://pandas.pydata.org/docs/reference/api/pandas.DataFrame.merge.html) method."
   ]
  },
  {
   "cell_type": "code",
   "execution_count": null,
   "id": "67058308",
   "metadata": {},
   "outputs": [],
   "source": []
  },
  {
   "cell_type": "markdown",
   "id": "fcc137f0",
   "metadata": {},
   "source": [
    "### Exercise: 3 Testing the correlation between GDP and FOI \n",
    "#### 3.1 Visualize FOI vs GDP\n",
    "\n",
    "Now that you have the FOI index, GPD per capita and PPP value for each country, you can make a scatter plot of FOI vs GDP.\n",
    "\n",
    "For this you can use the [`scatter`](https://matplotlib.org/stable/api/_as_gen/matplotlib.pyplot.scatter.html) method of `matplotlib`."
   ]
  },
  {
   "cell_type": "code",
   "execution_count": null,
   "id": "67fdd05e",
   "metadata": {},
   "outputs": [],
   "source": []
  },
  {
   "cell_type": "markdown",
   "id": "0f404be5",
   "metadata": {},
   "source": [
    "#### 3.2 Measure Pearson’s correlation\n",
    "\n",
    "In the following chunk, calculate Pearson’s correlation coefficient between GDP and FOI.\n",
    "\n",
    "For this you can use the [`pearsonr`](https://docs.scipy.org/doc/scipy/reference/generated/scipy.stats.pearsonr.html) method of `scipy`."
   ]
  },
  {
   "cell_type": "code",
   "execution_count": null,
   "id": "b18b0a3b",
   "metadata": {},
   "outputs": [],
   "source": []
  },
  {
   "cell_type": "markdown",
   "id": "657dc825",
   "metadata": {},
   "source": [
    "### To learn more\n",
    "#### Check robustness\n",
    "* What result do you get if you use other years? What if you choose one of the earliest years in Google trends?\n",
    "* How do results change if you use a different threshod instead of 5 Million Internet users?\n",
    "    \n",
    "#### Test other hypotheses\n",
    "* Is future orientation generating wealth? Or is wealth enabling to look more to the future?\n",
    "* Is the FOI really measuring orientation to the future? Could it be something else?\n",
    "\n",
    "### Pytrends Module\n",
    "* Use the [pytrends module](https://pypi.org/project/pytrends/) to get weekly Google Trends data concerning the [Flu/Influenza](https://en.wikipedia.org/wiki/Influenza) virus from the beginning of 2014 until the end of 2018.\n",
    "* Create an instance of the `TrendReq` class\n",
    "* Find the appropriate query term. The TrendReq class includes a method `suggestions`, which should help you in this task (the query term can look like e.g. `/m/03x_m3v`).\n",
    "* Specify the correct geographical region, the timeframe, and the key-word list. Use the `build_payload` method to store this information for future requests.\n",
    "* Use the `interest_over_time` method to get the data."
   ]
  }
 ],
 "metadata": {
  "kernelspec": {
   "display_name": "Python 3 (ipykernel)",
   "language": "python",
   "name": "python3"
  },
  "language_info": {
   "codemirror_mode": {
    "name": "ipython",
    "version": 3
   },
   "file_extension": ".py",
   "mimetype": "text/x-python",
   "name": "python",
   "nbconvert_exporter": "python",
   "pygments_lexer": "ipython3",
   "version": "3.11.4"
  }
 },
 "nbformat": 4,
 "nbformat_minor": 5
}
